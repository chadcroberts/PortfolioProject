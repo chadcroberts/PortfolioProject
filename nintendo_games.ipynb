{
 "cells": [
  {
   "cell_type": "code",
   "execution_count": 1,
   "id": "afec5193",
   "metadata": {},
   "outputs": [
    {
     "data": {
      "text/plain": [
       "(637, 14)"
      ]
     },
     "execution_count": 1,
     "metadata": {},
     "output_type": "execute_result"
    }
   ],
   "source": [
    "# Investigate list of Nintendo Switch games to recommend highest rated single player, two-player and multi-player options \n",
    "# by genre\n",
    "\n",
    "import pandas as pd\n",
    "import numpy as np\n",
    "\n",
    "pd.options.mode.chained_assignment = None  # default='warn'\n",
    "\n",
    "# Data downloaded from https://www.kaggle.com/datasets/giovanni60310/nintendo-switch-games-reviews?select=switch-games.csv\n",
    "\n",
    "df = pd.read_csv(r\"C:\\Users\\datri\\Downloads\\nintendo_games\\switch-games.csv\")\n",
    "df.shape"
   ]
  },
  {
   "cell_type": "code",
   "execution_count": 2,
   "id": "72690cd3",
   "metadata": {},
   "outputs": [
    {
     "data": {
      "text/html": [
       "<div>\n",
       "<style scoped>\n",
       "    .dataframe tbody tr th:only-of-type {\n",
       "        vertical-align: middle;\n",
       "    }\n",
       "\n",
       "    .dataframe tbody tr th {\n",
       "        vertical-align: top;\n",
       "    }\n",
       "\n",
       "    .dataframe thead th {\n",
       "        text-align: right;\n",
       "    }\n",
       "</style>\n",
       "<table border=\"1\" class=\"dataframe\">\n",
       "  <thead>\n",
       "    <tr style=\"text-align: right;\">\n",
       "      <th></th>\n",
       "      <th>id</th>\n",
       "      <th>title</th>\n",
       "      <th>game_url</th>\n",
       "      <th>image_url</th>\n",
       "      <th>system</th>\n",
       "      <th>publisher</th>\n",
       "      <th>developer</th>\n",
       "      <th>genre</th>\n",
       "      <th>num_players</th>\n",
       "      <th>release_date</th>\n",
       "      <th>review</th>\n",
       "      <th>review_conclusion</th>\n",
       "      <th>num_votes</th>\n",
       "      <th>rating</th>\n",
       "    </tr>\n",
       "  </thead>\n",
       "  <tbody>\n",
       "    <tr>\n",
       "      <th>0</th>\n",
       "      <td>0f0191a3</td>\n",
       "      <td>The DioField Chronicle</td>\n",
       "      <td>https://www.nintendolife.com/reviews/nintendo-...</td>\n",
       "      <td>https://images.nintendolife.com/d9a6ef84ec8cf/...</td>\n",
       "      <td>Nintendo Switch</td>\n",
       "      <td>Square Enix</td>\n",
       "      <td>Square Enix</td>\n",
       "      <td>RPG  Simulation  Strategy</td>\n",
       "      <td>1</td>\n",
       "      <td>22nd Sep 2022</td>\n",
       "      <td>Published by Square Enix and developed with as...</td>\n",
       "      <td>Despite its shortcomings  The DioField Chronic...</td>\n",
       "      <td>0</td>\n",
       "      <td>0.0</td>\n",
       "    </tr>\n",
       "    <tr>\n",
       "      <th>1</th>\n",
       "      <td>f2af5f5f</td>\n",
       "      <td>The Legend of Heroes: Trails from Zero</td>\n",
       "      <td>https://www.nintendolife.com/reviews/nintendo-...</td>\n",
       "      <td>https://images.nintendolife.com/004c2655b08cc/...</td>\n",
       "      <td>Nintendo Switch</td>\n",
       "      <td>NIS America</td>\n",
       "      <td>Nihon Falcom</td>\n",
       "      <td>RPG</td>\n",
       "      <td>1</td>\n",
       "      <td>27th Sep 2022</td>\n",
       "      <td>We dont blame you if you’re intimidated by Fal...</td>\n",
       "      <td>In a series renowned for its stellar writing  ...</td>\n",
       "      <td>0</td>\n",
       "      <td>0.0</td>\n",
       "    </tr>\n",
       "    <tr>\n",
       "      <th>2</th>\n",
       "      <td>a8996117</td>\n",
       "      <td>NBA 2K23</td>\n",
       "      <td>https://www.nintendolife.com/reviews/nintendo-...</td>\n",
       "      <td>https://images.nintendolife.com/60aff0dbdc402/...</td>\n",
       "      <td>Nintendo Switch</td>\n",
       "      <td>2K</td>\n",
       "      <td>Visual Concepts</td>\n",
       "      <td>Sports</td>\n",
       "      <td>4 (10 Online)</td>\n",
       "      <td>9th Sep 2022</td>\n",
       "      <td>Its once again reached that time of year when ...</td>\n",
       "      <td>NBA 2K23 makes the inevitable downgrades and c...</td>\n",
       "      <td>2</td>\n",
       "      <td>0.0</td>\n",
       "    </tr>\n",
       "    <tr>\n",
       "      <th>3</th>\n",
       "      <td>e2f10932</td>\n",
       "      <td>Temtem</td>\n",
       "      <td>https://www.nintendolife.com/reviews/nintendo-...</td>\n",
       "      <td>https://images.nintendolife.com/c6c585ce49b59/...</td>\n",
       "      <td>Nintendo Switch</td>\n",
       "      <td>Humble Games</td>\n",
       "      <td>Crema Games</td>\n",
       "      <td>Action  Adventure  RPG</td>\n",
       "      <td>1 (999 Online)</td>\n",
       "      <td>6th Sep 2022</td>\n",
       "      <td>At the beginning of our Temtem adventure  we h...</td>\n",
       "      <td>Even without the endgame content  Temtem is wo...</td>\n",
       "      <td>5</td>\n",
       "      <td>7.8</td>\n",
       "    </tr>\n",
       "    <tr>\n",
       "      <th>4</th>\n",
       "      <td>51ff4f64</td>\n",
       "      <td>Made in Abyss: Binary Star Falling into Darkness</td>\n",
       "      <td>https://www.nintendolife.com/reviews/nintendo-...</td>\n",
       "      <td>https://images.nintendolife.com/063177f5b67f4/...</td>\n",
       "      <td>Nintendo Switch</td>\n",
       "      <td>Spike Chunsoft US</td>\n",
       "      <td>Chime</td>\n",
       "      <td>Action  RPG</td>\n",
       "      <td>1</td>\n",
       "      <td>2nd Sep 2022</td>\n",
       "      <td>Made in Abyss feels like an anime/manga ripe f...</td>\n",
       "      <td>Made in Abyss is an odd game to recommend; the...</td>\n",
       "      <td>2</td>\n",
       "      <td>0.0</td>\n",
       "    </tr>\n",
       "  </tbody>\n",
       "</table>\n",
       "</div>"
      ],
      "text/plain": [
       "         id                                             title  \\\n",
       "0  0f0191a3                            The DioField Chronicle   \n",
       "1  f2af5f5f            The Legend of Heroes: Trails from Zero   \n",
       "2  a8996117                                          NBA 2K23   \n",
       "3  e2f10932                                            Temtem   \n",
       "4  51ff4f64  Made in Abyss: Binary Star Falling into Darkness   \n",
       "\n",
       "                                            game_url  \\\n",
       "0  https://www.nintendolife.com/reviews/nintendo-...   \n",
       "1  https://www.nintendolife.com/reviews/nintendo-...   \n",
       "2  https://www.nintendolife.com/reviews/nintendo-...   \n",
       "3  https://www.nintendolife.com/reviews/nintendo-...   \n",
       "4  https://www.nintendolife.com/reviews/nintendo-...   \n",
       "\n",
       "                                           image_url           system  \\\n",
       "0  https://images.nintendolife.com/d9a6ef84ec8cf/...  Nintendo Switch   \n",
       "1  https://images.nintendolife.com/004c2655b08cc/...  Nintendo Switch   \n",
       "2  https://images.nintendolife.com/60aff0dbdc402/...  Nintendo Switch   \n",
       "3  https://images.nintendolife.com/c6c585ce49b59/...  Nintendo Switch   \n",
       "4  https://images.nintendolife.com/063177f5b67f4/...  Nintendo Switch   \n",
       "\n",
       "           publisher        developer                      genre  \\\n",
       "0        Square Enix      Square Enix  RPG  Simulation  Strategy   \n",
       "1        NIS America     Nihon Falcom                        RPG   \n",
       "2                 2K  Visual Concepts                     Sports   \n",
       "3       Humble Games      Crema Games     Action  Adventure  RPG   \n",
       "4  Spike Chunsoft US            Chime                Action  RPG   \n",
       "\n",
       "      num_players   release_date  \\\n",
       "0               1  22nd Sep 2022   \n",
       "1               1  27th Sep 2022   \n",
       "2   4 (10 Online)   9th Sep 2022   \n",
       "3  1 (999 Online)   6th Sep 2022   \n",
       "4               1   2nd Sep 2022   \n",
       "\n",
       "                                              review  \\\n",
       "0  Published by Square Enix and developed with as...   \n",
       "1  We dont blame you if you’re intimidated by Fal...   \n",
       "2  Its once again reached that time of year when ...   \n",
       "3  At the beginning of our Temtem adventure  we h...   \n",
       "4  Made in Abyss feels like an anime/manga ripe f...   \n",
       "\n",
       "                                   review_conclusion num_votes  rating  \n",
       "0  Despite its shortcomings  The DioField Chronic...         0     0.0  \n",
       "1  In a series renowned for its stellar writing  ...         0     0.0  \n",
       "2  NBA 2K23 makes the inevitable downgrades and c...         2     0.0  \n",
       "3  Even without the endgame content  Temtem is wo...         5     7.8  \n",
       "4  Made in Abyss is an odd game to recommend; the...         2     0.0  "
      ]
     },
     "execution_count": 2,
     "metadata": {},
     "output_type": "execute_result"
    }
   ],
   "source": [
    "df.head()"
   ]
  },
  {
   "cell_type": "code",
   "execution_count": 3,
   "id": "13cfa794",
   "metadata": {},
   "outputs": [
    {
     "data": {
      "text/plain": [
       "Index(['id', 'title', 'system', 'publisher', 'developer', 'genre',\n",
       "       'num_players', 'release_date', 'review', 'review_conclusion',\n",
       "       'num_votes', 'rating'],\n",
       "      dtype='object')"
      ]
     },
     "execution_count": 3,
     "metadata": {},
     "output_type": "execute_result"
    }
   ],
   "source": [
    "df.drop(columns=['game_url','image_url'], inplace=True)\n",
    "df.columns"
   ]
  },
  {
   "cell_type": "code",
   "execution_count": 4,
   "id": "680bd711",
   "metadata": {},
   "outputs": [
    {
     "data": {
      "text/html": [
       "<div>\n",
       "<style scoped>\n",
       "    .dataframe tbody tr th:only-of-type {\n",
       "        vertical-align: middle;\n",
       "    }\n",
       "\n",
       "    .dataframe tbody tr th {\n",
       "        vertical-align: top;\n",
       "    }\n",
       "\n",
       "    .dataframe thead th {\n",
       "        text-align: right;\n",
       "    }\n",
       "</style>\n",
       "<table border=\"1\" class=\"dataframe\">\n",
       "  <thead>\n",
       "    <tr style=\"text-align: right;\">\n",
       "      <th></th>\n",
       "      <th>id</th>\n",
       "      <th>title</th>\n",
       "      <th>system</th>\n",
       "      <th>publisher</th>\n",
       "      <th>developer</th>\n",
       "      <th>genre</th>\n",
       "      <th>num_players</th>\n",
       "      <th>release_date</th>\n",
       "      <th>review</th>\n",
       "      <th>review_conclusion</th>\n",
       "      <th>num_votes</th>\n",
       "      <th>rating</th>\n",
       "    </tr>\n",
       "  </thead>\n",
       "  <tbody>\n",
       "    <tr>\n",
       "      <th>0</th>\n",
       "      <td>0f0191a3</td>\n",
       "      <td>The DioField Chronicle</td>\n",
       "      <td>Nintendo Switch</td>\n",
       "      <td>Square Enix</td>\n",
       "      <td>Square Enix</td>\n",
       "      <td>RPG  Simulation  Strategy</td>\n",
       "      <td>1</td>\n",
       "      <td>22nd Sep 2022</td>\n",
       "      <td>Published by Square Enix and developed with as...</td>\n",
       "      <td>Despite its shortcomings  The DioField Chronic...</td>\n",
       "      <td>0</td>\n",
       "      <td>0.0</td>\n",
       "    </tr>\n",
       "    <tr>\n",
       "      <th>1</th>\n",
       "      <td>f2af5f5f</td>\n",
       "      <td>The Legend of Heroes: Trails from Zero</td>\n",
       "      <td>Nintendo Switch</td>\n",
       "      <td>NIS America</td>\n",
       "      <td>Nihon Falcom</td>\n",
       "      <td>RPG</td>\n",
       "      <td>1</td>\n",
       "      <td>27th Sep 2022</td>\n",
       "      <td>We dont blame you if you’re intimidated by Fal...</td>\n",
       "      <td>In a series renowned for its stellar writing  ...</td>\n",
       "      <td>0</td>\n",
       "      <td>0.0</td>\n",
       "    </tr>\n",
       "    <tr>\n",
       "      <th>2</th>\n",
       "      <td>a8996117</td>\n",
       "      <td>NBA 2K23</td>\n",
       "      <td>Nintendo Switch</td>\n",
       "      <td>2K</td>\n",
       "      <td>Visual Concepts</td>\n",
       "      <td>Sports</td>\n",
       "      <td>4 (10 Online)</td>\n",
       "      <td>9th Sep 2022</td>\n",
       "      <td>Its once again reached that time of year when ...</td>\n",
       "      <td>NBA 2K23 makes the inevitable downgrades and c...</td>\n",
       "      <td>2</td>\n",
       "      <td>0.0</td>\n",
       "    </tr>\n",
       "    <tr>\n",
       "      <th>3</th>\n",
       "      <td>e2f10932</td>\n",
       "      <td>Temtem</td>\n",
       "      <td>Nintendo Switch</td>\n",
       "      <td>Humble Games</td>\n",
       "      <td>Crema Games</td>\n",
       "      <td>Action  Adventure  RPG</td>\n",
       "      <td>1 (999 Online)</td>\n",
       "      <td>6th Sep 2022</td>\n",
       "      <td>At the beginning of our Temtem adventure  we h...</td>\n",
       "      <td>Even without the endgame content  Temtem is wo...</td>\n",
       "      <td>5</td>\n",
       "      <td>7.8</td>\n",
       "    </tr>\n",
       "    <tr>\n",
       "      <th>4</th>\n",
       "      <td>51ff4f64</td>\n",
       "      <td>Made in Abyss: Binary Star Falling into Darkness</td>\n",
       "      <td>Nintendo Switch</td>\n",
       "      <td>Spike Chunsoft US</td>\n",
       "      <td>Chime</td>\n",
       "      <td>Action  RPG</td>\n",
       "      <td>1</td>\n",
       "      <td>2nd Sep 2022</td>\n",
       "      <td>Made in Abyss feels like an anime/manga ripe f...</td>\n",
       "      <td>Made in Abyss is an odd game to recommend; the...</td>\n",
       "      <td>2</td>\n",
       "      <td>0.0</td>\n",
       "    </tr>\n",
       "  </tbody>\n",
       "</table>\n",
       "</div>"
      ],
      "text/plain": [
       "         id                                             title  \\\n",
       "0  0f0191a3                            The DioField Chronicle   \n",
       "1  f2af5f5f            The Legend of Heroes: Trails from Zero   \n",
       "2  a8996117                                          NBA 2K23   \n",
       "3  e2f10932                                            Temtem   \n",
       "4  51ff4f64  Made in Abyss: Binary Star Falling into Darkness   \n",
       "\n",
       "            system          publisher        developer  \\\n",
       "0  Nintendo Switch        Square Enix      Square Enix   \n",
       "1  Nintendo Switch        NIS America     Nihon Falcom   \n",
       "2  Nintendo Switch                 2K  Visual Concepts   \n",
       "3  Nintendo Switch       Humble Games      Crema Games   \n",
       "4  Nintendo Switch  Spike Chunsoft US            Chime   \n",
       "\n",
       "                       genre     num_players   release_date  \\\n",
       "0  RPG  Simulation  Strategy               1  22nd Sep 2022   \n",
       "1                        RPG               1  27th Sep 2022   \n",
       "2                     Sports   4 (10 Online)   9th Sep 2022   \n",
       "3     Action  Adventure  RPG  1 (999 Online)   6th Sep 2022   \n",
       "4                Action  RPG               1   2nd Sep 2022   \n",
       "\n",
       "                                              review  \\\n",
       "0  Published by Square Enix and developed with as...   \n",
       "1  We dont blame you if you’re intimidated by Fal...   \n",
       "2  Its once again reached that time of year when ...   \n",
       "3  At the beginning of our Temtem adventure  we h...   \n",
       "4  Made in Abyss feels like an anime/manga ripe f...   \n",
       "\n",
       "                                   review_conclusion num_votes  rating  \n",
       "0  Despite its shortcomings  The DioField Chronic...         0     0.0  \n",
       "1  In a series renowned for its stellar writing  ...         0     0.0  \n",
       "2  NBA 2K23 makes the inevitable downgrades and c...         2     0.0  \n",
       "3  Even without the endgame content  Temtem is wo...         5     7.8  \n",
       "4  Made in Abyss is an odd game to recommend; the...         2     0.0  "
      ]
     },
     "execution_count": 4,
     "metadata": {},
     "output_type": "execute_result"
    }
   ],
   "source": [
    "df.head()"
   ]
  },
  {
   "cell_type": "code",
   "execution_count": 5,
   "id": "1e220555",
   "metadata": {},
   "outputs": [
    {
     "data": {
      "text/plain": [
       "id                    object\n",
       "title                 object\n",
       "system                object\n",
       "publisher             object\n",
       "developer             object\n",
       "genre                 object\n",
       "num_players           object\n",
       "release_date          object\n",
       "review                object\n",
       "review_conclusion     object\n",
       "num_votes             object\n",
       "rating               float64\n",
       "dtype: object"
      ]
     },
     "execution_count": 5,
     "metadata": {},
     "output_type": "execute_result"
    }
   ],
   "source": [
    "df.dtypes"
   ]
  },
  {
   "cell_type": "code",
   "execution_count": 6,
   "id": "5c853624",
   "metadata": {},
   "outputs": [],
   "source": [
    "# convert num_votes to integer, but need to remove ' ' characters\n",
    "\n",
    "df['num_votes'] = df['num_votes'].replace(' ','',regex=True).astype('int64')"
   ]
  },
  {
   "cell_type": "code",
   "execution_count": 7,
   "id": "43a4993b",
   "metadata": {},
   "outputs": [
    {
     "data": {
      "text/plain": [
       "id                    object\n",
       "title                 object\n",
       "system                object\n",
       "publisher             object\n",
       "developer             object\n",
       "genre                 object\n",
       "num_players           object\n",
       "release_date          object\n",
       "review                object\n",
       "review_conclusion     object\n",
       "num_votes              int64\n",
       "rating               float64\n",
       "dtype: object"
      ]
     },
     "execution_count": 7,
     "metadata": {},
     "output_type": "execute_result"
    }
   ],
   "source": [
    "df.dtypes"
   ]
  },
  {
   "cell_type": "code",
   "execution_count": 8,
   "id": "5f65b2a5",
   "metadata": {},
   "outputs": [
    {
     "data": {
      "text/plain": [
       "21.0"
      ]
     },
     "execution_count": 8,
     "metadata": {},
     "output_type": "execute_result"
    }
   ],
   "source": [
    "# what is median number of votes for all games?\n",
    "\n",
    "df['num_votes'].median()"
   ]
  },
  {
   "cell_type": "code",
   "execution_count": 9,
   "id": "5e385af0",
   "metadata": {},
   "outputs": [],
   "source": [
    "# create new df for all games with >median number of votes\n",
    "\n",
    "df_reviewed = df[df['num_votes']>df['num_votes'].median()]"
   ]
  },
  {
   "cell_type": "code",
   "execution_count": 10,
   "id": "834e564a",
   "metadata": {},
   "outputs": [
    {
     "data": {
      "text/plain": [
       "(317, 12)"
      ]
     },
     "execution_count": 10,
     "metadata": {},
     "output_type": "execute_result"
    }
   ],
   "source": [
    "df_reviewed.shape\n",
    "\n",
    "# approx half the game titles eliminated from consideration"
   ]
  },
  {
   "cell_type": "code",
   "execution_count": 11,
   "id": "9dc22eb8",
   "metadata": {},
   "outputs": [
    {
     "data": {
      "text/plain": [
       "genre\n",
       "Action  Adventure                 30\n",
       "Action                            24\n",
       "Action  RPG                       21\n",
       "Action  Adventure  RPG            18\n",
       "RPG                               18\n",
       "                                  ..\n",
       "Action  First Person  FPS  RPG     1\n",
       "Adventure  FPS                     1\n",
       "Party  Puzzle                      1\n",
       "Arcade  Fighting  Sports           1\n",
       "Party                              1\n",
       "Name: count, Length: 102, dtype: int64"
      ]
     },
     "execution_count": 11,
     "metadata": {},
     "output_type": "execute_result"
    }
   ],
   "source": [
    "# review different genres described\n",
    "\n",
    "df_reviewed['genre'].value_counts()"
   ]
  },
  {
   "cell_type": "code",
   "execution_count": 12,
   "id": "28d0a16e",
   "metadata": {},
   "outputs": [
    {
     "data": {
      "text/plain": [
       "11"
      ]
     },
     "execution_count": 12,
     "metadata": {},
     "output_type": "execute_result"
    }
   ],
   "source": [
    "# find records with missing genre description\n",
    "\n",
    "df_reviewed['genre'].isnull().sum()"
   ]
  },
  {
   "cell_type": "code",
   "execution_count": 13,
   "id": "3cff98ee",
   "metadata": {},
   "outputs": [
    {
     "data": {
      "text/html": [
       "<div>\n",
       "<style scoped>\n",
       "    .dataframe tbody tr th:only-of-type {\n",
       "        vertical-align: middle;\n",
       "    }\n",
       "\n",
       "    .dataframe tbody tr th {\n",
       "        vertical-align: top;\n",
       "    }\n",
       "\n",
       "    .dataframe thead th {\n",
       "        text-align: right;\n",
       "    }\n",
       "</style>\n",
       "<table border=\"1\" class=\"dataframe\">\n",
       "  <thead>\n",
       "    <tr style=\"text-align: right;\">\n",
       "      <th></th>\n",
       "      <th>id</th>\n",
       "      <th>title</th>\n",
       "      <th>system</th>\n",
       "      <th>publisher</th>\n",
       "      <th>developer</th>\n",
       "      <th>genre</th>\n",
       "      <th>num_players</th>\n",
       "      <th>release_date</th>\n",
       "      <th>review</th>\n",
       "      <th>review_conclusion</th>\n",
       "      <th>num_votes</th>\n",
       "      <th>rating</th>\n",
       "    </tr>\n",
       "  </thead>\n",
       "  <tbody>\n",
       "    <tr>\n",
       "      <th>78</th>\n",
       "      <td>3ae187ae</td>\n",
       "      <td>World War Z</td>\n",
       "      <td>Nintendo Switch</td>\n",
       "      <td>Saber Interactive</td>\n",
       "      <td>Saber Interactive</td>\n",
       "      <td>NaN</td>\n",
       "      <td>NaN</td>\n",
       "      <td>2nd Nov 2021</td>\n",
       "      <td>Saber Interactives World War Z is the very def...</td>\n",
       "      <td>World War Z is an unremarkable zombie shooter ...</td>\n",
       "      <td>28</td>\n",
       "      <td>7.6</td>\n",
       "    </tr>\n",
       "    <tr>\n",
       "      <th>90</th>\n",
       "      <td>a8ec626b</td>\n",
       "      <td>FIFA 22</td>\n",
       "      <td>Nintendo Switch</td>\n",
       "      <td>Electronic Arts</td>\n",
       "      <td>NaN</td>\n",
       "      <td>NaN</td>\n",
       "      <td>NaN</td>\n",
       "      <td>1st Oct 2021</td>\n",
       "      <td>“Fool me once ” the famous phrase goes  “shame...</td>\n",
       "      <td>FIFA 22 marks the third time EA has given us F...</td>\n",
       "      <td>32</td>\n",
       "      <td>2.2</td>\n",
       "    </tr>\n",
       "    <tr>\n",
       "      <th>352</th>\n",
       "      <td>e8ad9d4f</td>\n",
       "      <td>Star Wars Pinball</td>\n",
       "      <td>Nintendo Switch</td>\n",
       "      <td>Zen Studios</td>\n",
       "      <td>Zen Studios</td>\n",
       "      <td>NaN</td>\n",
       "      <td>NaN</td>\n",
       "      <td>13th Sep 2019</td>\n",
       "      <td>Do you like Star Wars? Do you like pinball? If...</td>\n",
       "      <td>Star Wars has finally come to Nintendo Switch....</td>\n",
       "      <td>38</td>\n",
       "      <td>7.6</td>\n",
       "    </tr>\n",
       "    <tr>\n",
       "      <th>371</th>\n",
       "      <td>f5ce3515</td>\n",
       "      <td>Wolfenstein: Youngblood</td>\n",
       "      <td>Nintendo Switch</td>\n",
       "      <td>Bethesda Game Studios</td>\n",
       "      <td>Panic Button</td>\n",
       "      <td>NaN</td>\n",
       "      <td>NaN</td>\n",
       "      <td>26th Jul 2019</td>\n",
       "      <td>The modern incarnation of Wolfenstein has alwa...</td>\n",
       "      <td>Wolfenstein: Youngblood is an odd little thing...</td>\n",
       "      <td>42</td>\n",
       "      <td>6.7</td>\n",
       "    </tr>\n",
       "    <tr>\n",
       "      <th>378</th>\n",
       "      <td>bbf92321</td>\n",
       "      <td>Dragon Quest Builders 2</td>\n",
       "      <td>Nintendo Switch</td>\n",
       "      <td>Square Enix</td>\n",
       "      <td>Square Enix</td>\n",
       "      <td>NaN</td>\n",
       "      <td>NaN</td>\n",
       "      <td>12th Jul 2019</td>\n",
       "      <td>Though the Minecraft formula has been iterated...</td>\n",
       "      <td>It takes a surprising amount of effort to beat...</td>\n",
       "      <td>173</td>\n",
       "      <td>8.3</td>\n",
       "    </tr>\n",
       "    <tr>\n",
       "      <th>381</th>\n",
       "      <td>4e286418</td>\n",
       "      <td>Red Faction: Guerrilla Re-Mars-tered</td>\n",
       "      <td>Nintendo Switch</td>\n",
       "      <td>THQ Nordic</td>\n",
       "      <td>Kaiko</td>\n",
       "      <td>NaN</td>\n",
       "      <td>NaN</td>\n",
       "      <td>2nd Jul 2019</td>\n",
       "      <td>When the original Red Faction dropped in 2001 ...</td>\n",
       "      <td>It’s crazy to think that the original Red Fact...</td>\n",
       "      <td>22</td>\n",
       "      <td>7.2</td>\n",
       "    </tr>\n",
       "    <tr>\n",
       "      <th>387</th>\n",
       "      <td>1eac34b7</td>\n",
       "      <td>Collection of Mana</td>\n",
       "      <td>Nintendo Switch</td>\n",
       "      <td>Square Enix</td>\n",
       "      <td>Square Enix</td>\n",
       "      <td>NaN</td>\n",
       "      <td>NaN</td>\n",
       "      <td>11th Jun 2019</td>\n",
       "      <td>While Squares Seiken Densetsu series continues...</td>\n",
       "      <td>When you consider how many titles Konami is pa...</td>\n",
       "      <td>178</td>\n",
       "      <td>7.9</td>\n",
       "    </tr>\n",
       "    <tr>\n",
       "      <th>481</th>\n",
       "      <td>18b65b98</td>\n",
       "      <td>Super Mario Party</td>\n",
       "      <td>Nintendo Switch</td>\n",
       "      <td>Nintendo</td>\n",
       "      <td>Nd Cube</td>\n",
       "      <td>NaN</td>\n",
       "      <td>4</td>\n",
       "      <td>16th Nov 2018</td>\n",
       "      <td>To say that the Mario Party series has had a t...</td>\n",
       "      <td>Recent Mario Party games have previously had a...</td>\n",
       "      <td>414</td>\n",
       "      <td>7.4</td>\n",
       "    </tr>\n",
       "    <tr>\n",
       "      <th>491</th>\n",
       "      <td>899133c3</td>\n",
       "      <td>Nintendo Labo Toy-Con 03: Vehicle Kit</td>\n",
       "      <td>Nintendo Switch</td>\n",
       "      <td>Nintendo</td>\n",
       "      <td>Nintendo</td>\n",
       "      <td>NaN</td>\n",
       "      <td>NaN</td>\n",
       "      <td>14th Sep 2018</td>\n",
       "      <td>The first two Nintendo Labo kits offered two v...</td>\n",
       "      <td>The third Labo kit is perhaps the best one yet...</td>\n",
       "      <td>22</td>\n",
       "      <td>7.4</td>\n",
       "    </tr>\n",
       "    <tr>\n",
       "      <th>514</th>\n",
       "      <td>911a9557</td>\n",
       "      <td>Captain Toad: Treasure Tracker</td>\n",
       "      <td>Nintendo Switch</td>\n",
       "      <td>Nintendo</td>\n",
       "      <td>Nintendo</td>\n",
       "      <td>NaN</td>\n",
       "      <td>NaN</td>\n",
       "      <td>13th Jul 2018</td>\n",
       "      <td>Captain Toad: Treasure Tracker was a real hidd...</td>\n",
       "      <td>Captain Toad: Treasure Tracker is a hidden gem...</td>\n",
       "      <td>288</td>\n",
       "      <td>8.1</td>\n",
       "    </tr>\n",
       "    <tr>\n",
       "      <th>625</th>\n",
       "      <td>f8a3e38d</td>\n",
       "      <td>Disgaea 5 Complete</td>\n",
       "      <td>Nintendo Switch</td>\n",
       "      <td>NIS America</td>\n",
       "      <td>Nippon Ichi</td>\n",
       "      <td>NaN</td>\n",
       "      <td>NaN</td>\n",
       "      <td>23rd May 2017</td>\n",
       "      <td>In the early days of the Nintendo Switch were ...</td>\n",
       "      <td>Disgaea 5 Complete is a tough game to judge. O...</td>\n",
       "      <td>122</td>\n",
       "      <td>8.0</td>\n",
       "    </tr>\n",
       "  </tbody>\n",
       "</table>\n",
       "</div>"
      ],
      "text/plain": [
       "           id                                  title           system  \\\n",
       "78   3ae187ae                            World War Z  Nintendo Switch   \n",
       "90   a8ec626b                                FIFA 22  Nintendo Switch   \n",
       "352  e8ad9d4f                      Star Wars Pinball  Nintendo Switch   \n",
       "371  f5ce3515                Wolfenstein: Youngblood  Nintendo Switch   \n",
       "378  bbf92321                Dragon Quest Builders 2  Nintendo Switch   \n",
       "381  4e286418   Red Faction: Guerrilla Re-Mars-tered  Nintendo Switch   \n",
       "387  1eac34b7                     Collection of Mana  Nintendo Switch   \n",
       "481  18b65b98                      Super Mario Party  Nintendo Switch   \n",
       "491  899133c3  Nintendo Labo Toy-Con 03: Vehicle Kit  Nintendo Switch   \n",
       "514  911a9557         Captain Toad: Treasure Tracker  Nintendo Switch   \n",
       "625  f8a3e38d                     Disgaea 5 Complete  Nintendo Switch   \n",
       "\n",
       "                 publisher          developer genre num_players  \\\n",
       "78       Saber Interactive  Saber Interactive   NaN         NaN   \n",
       "90         Electronic Arts                NaN   NaN         NaN   \n",
       "352            Zen Studios        Zen Studios   NaN         NaN   \n",
       "371  Bethesda Game Studios       Panic Button   NaN         NaN   \n",
       "378            Square Enix        Square Enix   NaN         NaN   \n",
       "381             THQ Nordic              Kaiko   NaN         NaN   \n",
       "387            Square Enix        Square Enix   NaN         NaN   \n",
       "481               Nintendo            Nd Cube   NaN           4   \n",
       "491               Nintendo           Nintendo   NaN         NaN   \n",
       "514               Nintendo           Nintendo   NaN         NaN   \n",
       "625            NIS America        Nippon Ichi   NaN         NaN   \n",
       "\n",
       "      release_date                                             review  \\\n",
       "78    2nd Nov 2021  Saber Interactives World War Z is the very def...   \n",
       "90    1st Oct 2021  “Fool me once ” the famous phrase goes  “shame...   \n",
       "352  13th Sep 2019  Do you like Star Wars? Do you like pinball? If...   \n",
       "371  26th Jul 2019  The modern incarnation of Wolfenstein has alwa...   \n",
       "378  12th Jul 2019  Though the Minecraft formula has been iterated...   \n",
       "381   2nd Jul 2019  When the original Red Faction dropped in 2001 ...   \n",
       "387  11th Jun 2019  While Squares Seiken Densetsu series continues...   \n",
       "481  16th Nov 2018  To say that the Mario Party series has had a t...   \n",
       "491  14th Sep 2018  The first two Nintendo Labo kits offered two v...   \n",
       "514  13th Jul 2018  Captain Toad: Treasure Tracker was a real hidd...   \n",
       "625  23rd May 2017  In the early days of the Nintendo Switch were ...   \n",
       "\n",
       "                                     review_conclusion  num_votes  rating  \n",
       "78   World War Z is an unremarkable zombie shooter ...         28     7.6  \n",
       "90   FIFA 22 marks the third time EA has given us F...         32     2.2  \n",
       "352  Star Wars has finally come to Nintendo Switch....         38     7.6  \n",
       "371  Wolfenstein: Youngblood is an odd little thing...         42     6.7  \n",
       "378  It takes a surprising amount of effort to beat...        173     8.3  \n",
       "381  It’s crazy to think that the original Red Fact...         22     7.2  \n",
       "387  When you consider how many titles Konami is pa...        178     7.9  \n",
       "481  Recent Mario Party games have previously had a...        414     7.4  \n",
       "491  The third Labo kit is perhaps the best one yet...         22     7.4  \n",
       "514  Captain Toad: Treasure Tracker is a hidden gem...        288     8.1  \n",
       "625  Disgaea 5 Complete is a tough game to judge. O...        122     8.0  "
      ]
     },
     "execution_count": 13,
     "metadata": {},
     "output_type": "execute_result"
    }
   ],
   "source": [
    "# check number of votes for records with missing genre information \n",
    "\n",
    "df_reviewed[df_reviewed['genre'].isnull()]\n",
    "\n",
    "# all have more than median number of votes, so keep data for analysis"
   ]
  },
  {
   "cell_type": "code",
   "execution_count": 14,
   "id": "78aed81e",
   "metadata": {},
   "outputs": [],
   "source": [
    "# replace nulls in the genre column with ''\n",
    "\n",
    "df_reviewed['genre'].fillna('', inplace=True)"
   ]
  },
  {
   "cell_type": "code",
   "execution_count": 15,
   "id": "4c6349ee",
   "metadata": {},
   "outputs": [
    {
     "data": {
      "text/html": [
       "<div>\n",
       "<style scoped>\n",
       "    .dataframe tbody tr th:only-of-type {\n",
       "        vertical-align: middle;\n",
       "    }\n",
       "\n",
       "    .dataframe tbody tr th {\n",
       "        vertical-align: top;\n",
       "    }\n",
       "\n",
       "    .dataframe thead th {\n",
       "        text-align: right;\n",
       "    }\n",
       "</style>\n",
       "<table border=\"1\" class=\"dataframe\">\n",
       "  <thead>\n",
       "    <tr style=\"text-align: right;\">\n",
       "      <th></th>\n",
       "      <th>id</th>\n",
       "      <th>title</th>\n",
       "      <th>system</th>\n",
       "      <th>publisher</th>\n",
       "      <th>developer</th>\n",
       "      <th>genre</th>\n",
       "      <th>num_players</th>\n",
       "      <th>release_date</th>\n",
       "      <th>review</th>\n",
       "      <th>review_conclusion</th>\n",
       "      <th>num_votes</th>\n",
       "      <th>rating</th>\n",
       "    </tr>\n",
       "  </thead>\n",
       "  <tbody>\n",
       "  </tbody>\n",
       "</table>\n",
       "</div>"
      ],
      "text/plain": [
       "Empty DataFrame\n",
       "Columns: [id, title, system, publisher, developer, genre, num_players, release_date, review, review_conclusion, num_votes, rating]\n",
       "Index: []"
      ]
     },
     "execution_count": 15,
     "metadata": {},
     "output_type": "execute_result"
    }
   ],
   "source": [
    "# check number of votes for records with missing genre information\n",
    "\n",
    "df_reviewed[df_reviewed['genre'].isnull()]"
   ]
  },
  {
   "cell_type": "code",
   "execution_count": 16,
   "id": "ed404b13",
   "metadata": {},
   "outputs": [],
   "source": [
    "# function to create new column to limit options in genre column - action, platformer, RPG, shooter/FPS, sports, party, fighting\n",
    "\n",
    "# define function to organize genre into fewer categories\n",
    "def select_genre(genre_in):\n",
    "    if 'Platformer' in genre_in:\n",
    "        return 'Platformer'\n",
    "    if 'RPG' in genre_in:\n",
    "        return 'RPG'\n",
    "    if ('Shooter' in genre_in) or ('FPS' in genre_in):\n",
    "        return 'Shooter'\n",
    "    if ('Sports' in genre_in) or ('Racing' in genre_in):\n",
    "        return 'Sports'\n",
    "    if 'Adventure' in genre_in:\n",
    "        return 'Adventure'\n",
    "    if 'Action' in genre_in:\n",
    "        return 'Action'\n",
    "    if 'Party' in genre_in:\n",
    "        return 'Party'\n",
    "    return 'Other'"
   ]
  },
  {
   "cell_type": "code",
   "execution_count": 17,
   "id": "551ca059",
   "metadata": {},
   "outputs": [],
   "source": [
    "# create a list from the genre column and generate a new column with fewer categories\n",
    "\n",
    "genre_list = []\n",
    "genre_list = df_reviewed['genre']\n",
    "reduced_genre_list = []\n",
    "\n",
    "for i in df_reviewed.index:\n",
    "#    print(select_genre(genre_list[i]))\n",
    "    reduced_genre_list.append(select_genre(genre_list[i]))\n",
    "\n",
    "#reduced_genre_list"
   ]
  },
  {
   "cell_type": "code",
   "execution_count": 19,
   "id": "c2e093d6",
   "metadata": {},
   "outputs": [],
   "source": [
    "# add new column with reduced categories to df_reviewed\n",
    "\n",
    "df_reviewed.insert(6, 'genre_reduced', reduced_genre_list)"
   ]
  },
  {
   "cell_type": "code",
   "execution_count": 20,
   "id": "8ca9038d",
   "metadata": {},
   "outputs": [
    {
     "data": {
      "text/html": [
       "<div>\n",
       "<style scoped>\n",
       "    .dataframe tbody tr th:only-of-type {\n",
       "        vertical-align: middle;\n",
       "    }\n",
       "\n",
       "    .dataframe tbody tr th {\n",
       "        vertical-align: top;\n",
       "    }\n",
       "\n",
       "    .dataframe thead th {\n",
       "        text-align: right;\n",
       "    }\n",
       "</style>\n",
       "<table border=\"1\" class=\"dataframe\">\n",
       "  <thead>\n",
       "    <tr style=\"text-align: right;\">\n",
       "      <th></th>\n",
       "      <th>title</th>\n",
       "      <th>genre</th>\n",
       "      <th>genre_reduced</th>\n",
       "    </tr>\n",
       "  </thead>\n",
       "  <tbody>\n",
       "    <tr>\n",
       "      <th>5</th>\n",
       "      <td>Splatoon 3</td>\n",
       "      <td>Action</td>\n",
       "      <td>Action</td>\n",
       "    </tr>\n",
       "    <tr>\n",
       "      <th>17</th>\n",
       "      <td>Xenoblade Chronicles 3</td>\n",
       "      <td>RPG</td>\n",
       "      <td>RPG</td>\n",
       "    </tr>\n",
       "    <tr>\n",
       "      <th>18</th>\n",
       "      <td>Live A Live</td>\n",
       "      <td>RPG</td>\n",
       "      <td>RPG</td>\n",
       "    </tr>\n",
       "    <tr>\n",
       "      <th>25</th>\n",
       "      <td>Fire Emblem Warriors: Three Hopes</td>\n",
       "      <td>Action  RPG  Simulation  Strategy</td>\n",
       "      <td>RPG</td>\n",
       "    </tr>\n",
       "    <tr>\n",
       "      <th>28</th>\n",
       "      <td>Mario Strikers: Battle League</td>\n",
       "      <td>Sports</td>\n",
       "      <td>Sports</td>\n",
       "    </tr>\n",
       "    <tr>\n",
       "      <th>35</th>\n",
       "      <td>Nintendo Switch Sports</td>\n",
       "      <td>Party  Sports</td>\n",
       "      <td>Sports</td>\n",
       "    </tr>\n",
       "    <tr>\n",
       "      <th>42</th>\n",
       "      <td>13 Sentinels: Aegis Rim</td>\n",
       "      <td>Adventure  Simulation  Strategy</td>\n",
       "      <td>Adventure</td>\n",
       "    </tr>\n",
       "    <tr>\n",
       "      <th>43</th>\n",
       "      <td>LEGO Star Wars: The Skywalker Saga</td>\n",
       "      <td>Action</td>\n",
       "      <td>Action</td>\n",
       "    </tr>\n",
       "    <tr>\n",
       "      <th>44</th>\n",
       "      <td>Touken Ranbu Warriors</td>\n",
       "      <td>Action</td>\n",
       "      <td>Action</td>\n",
       "    </tr>\n",
       "    <tr>\n",
       "      <th>45</th>\n",
       "      <td>Kirby and the Forgotten Land</td>\n",
       "      <td>Action  Platformer</td>\n",
       "      <td>Platformer</td>\n",
       "    </tr>\n",
       "    <tr>\n",
       "      <th>50</th>\n",
       "      <td>TRIANGLE STRATEGY</td>\n",
       "      <td>Adventure  RPG  Strategy</td>\n",
       "      <td>RPG</td>\n",
       "    </tr>\n",
       "    <tr>\n",
       "      <th>56</th>\n",
       "      <td>Dynasty Warriors 9: Empires</td>\n",
       "      <td>Action  Simulation  Strategy</td>\n",
       "      <td>Action</td>\n",
       "    </tr>\n",
       "    <tr>\n",
       "      <th>58</th>\n",
       "      <td>Pokémon Legends: Arceus</td>\n",
       "      <td>Action  RPG</td>\n",
       "      <td>RPG</td>\n",
       "    </tr>\n",
       "    <tr>\n",
       "      <th>67</th>\n",
       "      <td>Big Brain Academy: Brain vs. Brain</td>\n",
       "      <td>Party  Puzzle</td>\n",
       "      <td>Party</td>\n",
       "    </tr>\n",
       "    <tr>\n",
       "      <th>68</th>\n",
       "      <td>Danganronpa Decadence</td>\n",
       "      <td>Adventure</td>\n",
       "      <td>Adventure</td>\n",
       "    </tr>\n",
       "    <tr>\n",
       "      <th>72</th>\n",
       "      <td>Pokémon Brilliant Diamond and Shining Pearl</td>\n",
       "      <td>Adventure  RPG</td>\n",
       "      <td>RPG</td>\n",
       "    </tr>\n",
       "    <tr>\n",
       "      <th>73</th>\n",
       "      <td>Grand Theft Auto: The Trilogy - The Definitive...</td>\n",
       "      <td>Action  Adventure  Shooter</td>\n",
       "      <td>Shooter</td>\n",
       "    </tr>\n",
       "    <tr>\n",
       "      <th>76</th>\n",
       "      <td>BLUE REFLECTION: Second Light</td>\n",
       "      <td>RPG</td>\n",
       "      <td>RPG</td>\n",
       "    </tr>\n",
       "    <tr>\n",
       "      <th>78</th>\n",
       "      <td>World War Z</td>\n",
       "      <td></td>\n",
       "      <td>Other</td>\n",
       "    </tr>\n",
       "    <tr>\n",
       "      <th>79</th>\n",
       "      <td>Shin Megami Tensei V</td>\n",
       "      <td>RPG  Strategy</td>\n",
       "      <td>RPG</td>\n",
       "    </tr>\n",
       "  </tbody>\n",
       "</table>\n",
       "</div>"
      ],
      "text/plain": [
       "                                                title  \\\n",
       "5                                          Splatoon 3   \n",
       "17                             Xenoblade Chronicles 3   \n",
       "18                                        Live A Live   \n",
       "25                  Fire Emblem Warriors: Three Hopes   \n",
       "28                      Mario Strikers: Battle League   \n",
       "35                             Nintendo Switch Sports   \n",
       "42                            13 Sentinels: Aegis Rim   \n",
       "43                 LEGO Star Wars: The Skywalker Saga   \n",
       "44                              Touken Ranbu Warriors   \n",
       "45                       Kirby and the Forgotten Land   \n",
       "50                                  TRIANGLE STRATEGY   \n",
       "56                        Dynasty Warriors 9: Empires   \n",
       "58                            Pokémon Legends: Arceus   \n",
       "67                 Big Brain Academy: Brain vs. Brain   \n",
       "68                              Danganronpa Decadence   \n",
       "72        Pokémon Brilliant Diamond and Shining Pearl   \n",
       "73  Grand Theft Auto: The Trilogy - The Definitive...   \n",
       "76                      BLUE REFLECTION: Second Light   \n",
       "78                                        World War Z   \n",
       "79                               Shin Megami Tensei V   \n",
       "\n",
       "                                genre genre_reduced  \n",
       "5                              Action        Action  \n",
       "17                                RPG           RPG  \n",
       "18                                RPG           RPG  \n",
       "25  Action  RPG  Simulation  Strategy           RPG  \n",
       "28                             Sports        Sports  \n",
       "35                      Party  Sports        Sports  \n",
       "42    Adventure  Simulation  Strategy     Adventure  \n",
       "43                             Action        Action  \n",
       "44                             Action        Action  \n",
       "45                 Action  Platformer    Platformer  \n",
       "50           Adventure  RPG  Strategy           RPG  \n",
       "56       Action  Simulation  Strategy        Action  \n",
       "58                        Action  RPG           RPG  \n",
       "67                      Party  Puzzle         Party  \n",
       "68                          Adventure     Adventure  \n",
       "72                     Adventure  RPG           RPG  \n",
       "73         Action  Adventure  Shooter       Shooter  \n",
       "76                                RPG           RPG  \n",
       "78                                            Other  \n",
       "79                      RPG  Strategy           RPG  "
      ]
     },
     "execution_count": 20,
     "metadata": {},
     "output_type": "execute_result"
    }
   ],
   "source": [
    "df_reviewed[['title', 'genre', 'genre_reduced']].head(20)"
   ]
  },
  {
   "cell_type": "code",
   "execution_count": 21,
   "id": "bceb29d3",
   "metadata": {},
   "outputs": [
    {
     "data": {
      "text/plain": [
       "genre_reduced\n",
       "RPG           90\n",
       "Adventure     46\n",
       "Platformer    46\n",
       "Action        43\n",
       "Other         38\n",
       "Sports        30\n",
       "Shooter       15\n",
       "Party          9\n",
       "Name: count, dtype: int64"
      ]
     },
     "execution_count": 21,
     "metadata": {},
     "output_type": "execute_result"
    }
   ],
   "source": [
    "df_reviewed['genre_reduced'].value_counts()"
   ]
  },
  {
   "cell_type": "code",
   "execution_count": 22,
   "id": "a68d5af3",
   "metadata": {},
   "outputs": [
    {
     "data": {
      "text/html": [
       "<div>\n",
       "<style scoped>\n",
       "    .dataframe tbody tr th:only-of-type {\n",
       "        vertical-align: middle;\n",
       "    }\n",
       "\n",
       "    .dataframe tbody tr th {\n",
       "        vertical-align: top;\n",
       "    }\n",
       "\n",
       "    .dataframe thead th {\n",
       "        text-align: right;\n",
       "    }\n",
       "</style>\n",
       "<table border=\"1\" class=\"dataframe\">\n",
       "  <thead>\n",
       "    <tr style=\"text-align: right;\">\n",
       "      <th></th>\n",
       "      <th>id</th>\n",
       "      <th>title</th>\n",
       "      <th>system</th>\n",
       "      <th>publisher</th>\n",
       "      <th>developer</th>\n",
       "      <th>genre</th>\n",
       "      <th>genre_reduced</th>\n",
       "      <th>num_players</th>\n",
       "      <th>release_date</th>\n",
       "      <th>review</th>\n",
       "      <th>review_conclusion</th>\n",
       "      <th>num_votes</th>\n",
       "      <th>rating</th>\n",
       "    </tr>\n",
       "  </thead>\n",
       "  <tbody>\n",
       "    <tr>\n",
       "      <th>0</th>\n",
       "      <td>4377dbf1</td>\n",
       "      <td>Splatoon 3</td>\n",
       "      <td>Nintendo Switch</td>\n",
       "      <td>Nintendo</td>\n",
       "      <td>Nintendo</td>\n",
       "      <td>Action</td>\n",
       "      <td>Action</td>\n",
       "      <td>1 (8 Online)</td>\n",
       "      <td>9th Sep 2022</td>\n",
       "      <td>When the original Splatoon launched on the Wii...</td>\n",
       "      <td>Splatoon 3 is more of the same  but refined to...</td>\n",
       "      <td>42</td>\n",
       "      <td>9.1</td>\n",
       "    </tr>\n",
       "    <tr>\n",
       "      <th>1</th>\n",
       "      <td>54ce4908</td>\n",
       "      <td>Xenoblade Chronicles 3</td>\n",
       "      <td>Nintendo Switch</td>\n",
       "      <td>Nintendo</td>\n",
       "      <td>Monolith Soft</td>\n",
       "      <td>RPG</td>\n",
       "      <td>RPG</td>\n",
       "      <td>1</td>\n",
       "      <td>29th Jul 2022</td>\n",
       "      <td>The Xenoblade Chronicles 3 key art promises a ...</td>\n",
       "      <td>Xenoblade Chronicles 3 is a genuine masterpiec...</td>\n",
       "      <td>70</td>\n",
       "      <td>9.4</td>\n",
       "    </tr>\n",
       "    <tr>\n",
       "      <th>2</th>\n",
       "      <td>889702e7</td>\n",
       "      <td>Live A Live</td>\n",
       "      <td>Nintendo Switch</td>\n",
       "      <td>Nintendo</td>\n",
       "      <td>Square Enix</td>\n",
       "      <td>RPG</td>\n",
       "      <td>RPG</td>\n",
       "      <td>1</td>\n",
       "      <td>22nd Jul 2022</td>\n",
       "      <td>Early on in Square Enix’s remake of Live A Liv...</td>\n",
       "      <td>Live A Live has been well worth the long wait....</td>\n",
       "      <td>30</td>\n",
       "      <td>7.5</td>\n",
       "    </tr>\n",
       "    <tr>\n",
       "      <th>3</th>\n",
       "      <td>c3779274</td>\n",
       "      <td>Fire Emblem Warriors: Three Hopes</td>\n",
       "      <td>Nintendo Switch</td>\n",
       "      <td>Nintendo</td>\n",
       "      <td>Omega Force</td>\n",
       "      <td>Action  RPG  Simulation  Strategy</td>\n",
       "      <td>RPG</td>\n",
       "      <td>2</td>\n",
       "      <td>24th Jun 2022</td>\n",
       "      <td>With the success of the likes of Hyrule Warrio...</td>\n",
       "      <td>Fire Emblem Warriors: Three Hopes is a thoroug...</td>\n",
       "      <td>33</td>\n",
       "      <td>7.4</td>\n",
       "    </tr>\n",
       "    <tr>\n",
       "      <th>4</th>\n",
       "      <td>03e90c97</td>\n",
       "      <td>Mario Strikers: Battle League</td>\n",
       "      <td>Nintendo Switch</td>\n",
       "      <td>Nintendo</td>\n",
       "      <td>Next Level Games</td>\n",
       "      <td>Sports</td>\n",
       "      <td>Sports</td>\n",
       "      <td>8</td>\n",
       "      <td>10th Jun 2022</td>\n",
       "      <td>Name a sport. Go on  name one. Now presumably ...</td>\n",
       "      <td>Mario Strikers: Battle League is a masterclass...</td>\n",
       "      <td>48</td>\n",
       "      <td>7.2</td>\n",
       "    </tr>\n",
       "  </tbody>\n",
       "</table>\n",
       "</div>"
      ],
      "text/plain": [
       "         id                              title           system publisher  \\\n",
       "0  4377dbf1                         Splatoon 3  Nintendo Switch  Nintendo   \n",
       "1  54ce4908             Xenoblade Chronicles 3  Nintendo Switch  Nintendo   \n",
       "2  889702e7                        Live A Live  Nintendo Switch  Nintendo   \n",
       "3  c3779274  Fire Emblem Warriors: Three Hopes  Nintendo Switch  Nintendo   \n",
       "4  03e90c97      Mario Strikers: Battle League  Nintendo Switch  Nintendo   \n",
       "\n",
       "          developer                              genre genre_reduced  \\\n",
       "0          Nintendo                             Action        Action   \n",
       "1     Monolith Soft                                RPG           RPG   \n",
       "2       Square Enix                                RPG           RPG   \n",
       "3       Omega Force  Action  RPG  Simulation  Strategy           RPG   \n",
       "4  Next Level Games                             Sports        Sports   \n",
       "\n",
       "    num_players   release_date  \\\n",
       "0  1 (8 Online)   9th Sep 2022   \n",
       "1             1  29th Jul 2022   \n",
       "2             1  22nd Jul 2022   \n",
       "3             2  24th Jun 2022   \n",
       "4             8  10th Jun 2022   \n",
       "\n",
       "                                              review  \\\n",
       "0  When the original Splatoon launched on the Wii...   \n",
       "1  The Xenoblade Chronicles 3 key art promises a ...   \n",
       "2  Early on in Square Enix’s remake of Live A Liv...   \n",
       "3  With the success of the likes of Hyrule Warrio...   \n",
       "4  Name a sport. Go on  name one. Now presumably ...   \n",
       "\n",
       "                                   review_conclusion  num_votes  rating  \n",
       "0  Splatoon 3 is more of the same  but refined to...         42     9.1  \n",
       "1  Xenoblade Chronicles 3 is a genuine masterpiec...         70     9.4  \n",
       "2  Live A Live has been well worth the long wait....         30     7.5  \n",
       "3  Fire Emblem Warriors: Three Hopes is a thoroug...         33     7.4  \n",
       "4  Mario Strikers: Battle League is a masterclass...         48     7.2  "
      ]
     },
     "execution_count": 22,
     "metadata": {},
     "output_type": "execute_result"
    }
   ],
   "source": [
    "df_reviewed.reset_index(drop=True, inplace=True)\n",
    "df_reviewed.head()"
   ]
  },
  {
   "cell_type": "code",
   "execution_count": 23,
   "id": "6200e5b6",
   "metadata": {},
   "outputs": [
    {
     "data": {
      "text/plain": [
       "developer\n",
       "Nintendo            27\n",
       "Bandai Namco        14\n",
       "Square Enix         13\n",
       "Capcom              11\n",
       "Ubisoft             10\n",
       "TT Games             7\n",
       "SEGA                 7\n",
       "Omega Force          6\n",
       "Arc System Works     6\n",
       "Koei Tecmo           5\n",
       "Name: count, dtype: int64"
      ]
     },
     "execution_count": 23,
     "metadata": {},
     "output_type": "execute_result"
    }
   ],
   "source": [
    "# show top 10 game developers in terms of number of titles\n",
    "\n",
    "df_reviewed['developer'].value_counts().head(10)"
   ]
  },
  {
   "cell_type": "code",
   "execution_count": 24,
   "id": "443cf412",
   "metadata": {},
   "outputs": [
    {
     "data": {
      "text/plain": [
       "publisher\n",
       "Nintendo           71\n",
       "Bandai Namco       21\n",
       "SEGA               17\n",
       "NIS America        12\n",
       "Capcom             12\n",
       "Square Enix        12\n",
       "Ubisoft            12\n",
       "Koei Tecmo         10\n",
       "Electronic Arts     9\n",
       "THQ Nordic          9\n",
       "Name: count, dtype: int64"
      ]
     },
     "execution_count": 24,
     "metadata": {},
     "output_type": "execute_result"
    }
   ],
   "source": [
    "# show top 10 game publishers in terms of numbers of titles\n",
    "\n",
    "df_reviewed['publisher'].value_counts().head(10)"
   ]
  },
  {
   "cell_type": "code",
   "execution_count": 25,
   "id": "2619e275",
   "metadata": {},
   "outputs": [],
   "source": [
    "import matplotlib as mpl\n",
    "import matplotlib.pyplot as plt\n",
    "%matplotlib inline"
   ]
  },
  {
   "cell_type": "code",
   "execution_count": 26,
   "id": "6fa5fd56",
   "metadata": {},
   "outputs": [],
   "source": [
    "# collect number of each genre to create a pie chart\n",
    "\n",
    "df_genres = df_reviewed['genre_reduced'].value_counts()"
   ]
  },
  {
   "cell_type": "code",
   "execution_count": 27,
   "id": "bf0e1f06",
   "metadata": {},
   "outputs": [
    {
     "data": {
      "image/png": "[encoded data removed]",
      "text/plain": [
       "<Figure size 1200x600 with 1 Axes>"
      ]
     },
     "metadata": {},
     "output_type": "display_data"
    }
   ],
   "source": [
    "# generate pie chart describing share of most commonly reviewed game genres\n",
    "\n",
    "df_genres.plot(kind='pie', figsize = (12,6), autopct = '%1.1f%%', pctdistance=0.85)\n",
    "plt.title('Nintendo Switch Games Genres (Min 21 Votes)')\n",
    "plt.ylabel('')\n",
    "plt.show()"
   ]
  },
  {
   "cell_type": "code",
   "execution_count": 28,
   "id": "2f64c1aa",
   "metadata": {},
   "outputs": [
    {
     "data": {
      "text/plain": [
       "num_players\n",
       "1                138\n",
       "2                 57\n",
       "4                 52\n",
       "8                 28\n",
       "6                 11\n",
       "10                 5\n",
       "1 (8 Online)       3\n",
       "5                  2\n",
       "12                 2\n",
       "4 (12 Online)      2\n",
       "16                 1\n",
       "4 (8 Online)       1\n",
       "1 (12 Online)      1\n",
       "Name: count, dtype: int64"
      ]
     },
     "execution_count": 28,
     "metadata": {},
     "output_type": "execute_result"
    }
   ],
   "source": [
    "# show number of players for games in df_reviewed\n",
    "\n",
    "df_reviewed['num_players'].value_counts()"
   ]
  },
  {
   "cell_type": "code",
   "execution_count": 29,
   "id": "e416d7f5",
   "metadata": {},
   "outputs": [
    {
     "data": {
      "text/plain": [
       "14"
      ]
     },
     "execution_count": 29,
     "metadata": {},
     "output_type": "execute_result"
    }
   ],
   "source": [
    "# list number of null values for num_players column\n",
    "\n",
    "df_reviewed['num_players'].isnull().sum()"
   ]
  },
  {
   "cell_type": "code",
   "execution_count": 30,
   "id": "dbcaa131",
   "metadata": {},
   "outputs": [],
   "source": [
    "# replace nulls with 1 since all games allow single play option\n",
    "\n",
    "df_reviewed['num_players'].fillna('1', inplace=True)"
   ]
  },
  {
   "cell_type": "code",
   "execution_count": 31,
   "id": "5074b0d2",
   "metadata": {},
   "outputs": [],
   "source": [
    "# create list to eliminate \"(X Online)\" description in num_players column\n",
    "\n",
    "num_players_list = df_reviewed['num_players']"
   ]
  },
  {
   "cell_type": "code",
   "execution_count": 32,
   "id": "7a8cd577",
   "metadata": {},
   "outputs": [],
   "source": [
    "# update list to remove the \"(X Online)\" text from all rows in num_players column with for loop\n",
    "\n",
    "for i in df_reviewed.index:\n",
    "    s = num_players_list[i]\n",
    "    if s.find('(') == -1:\n",
    "        num_players_list[i] = s\n",
    "    else:\n",
    "        num_players_list[i] = s[0:s.find('(')-1]        \n",
    "#num_players_list"
   ]
  },
  {
   "cell_type": "code",
   "execution_count": 33,
   "id": "9bb173cc",
   "metadata": {},
   "outputs": [],
   "source": [
    "# insert modified list as a new column that does not include online player quantity --> describe as offline players\n",
    "\n",
    "df_reviewed.insert(8, 'num_players_offline', num_players_list)"
   ]
  },
  {
   "cell_type": "code",
   "execution_count": 35,
   "id": "93289fce",
   "metadata": {},
   "outputs": [
    {
     "data": {
      "text/html": [
       "<div>\n",
       "<style scoped>\n",
       "    .dataframe tbody tr th:only-of-type {\n",
       "        vertical-align: middle;\n",
       "    }\n",
       "\n",
       "    .dataframe tbody tr th {\n",
       "        vertical-align: top;\n",
       "    }\n",
       "\n",
       "    .dataframe thead th {\n",
       "        text-align: right;\n",
       "    }\n",
       "</style>\n",
       "<table border=\"1\" class=\"dataframe\">\n",
       "  <thead>\n",
       "    <tr style=\"text-align: right;\">\n",
       "      <th></th>\n",
       "      <th>num_players</th>\n",
       "      <th>num_players_offline</th>\n",
       "    </tr>\n",
       "  </thead>\n",
       "  <tbody>\n",
       "    <tr>\n",
       "      <th>297</th>\n",
       "      <td>2</td>\n",
       "      <td>2</td>\n",
       "    </tr>\n",
       "    <tr>\n",
       "      <th>298</th>\n",
       "      <td>2</td>\n",
       "      <td>2</td>\n",
       "    </tr>\n",
       "    <tr>\n",
       "      <th>299</th>\n",
       "      <td>4</td>\n",
       "      <td>4</td>\n",
       "    </tr>\n",
       "    <tr>\n",
       "      <th>300</th>\n",
       "      <td>1</td>\n",
       "      <td>1</td>\n",
       "    </tr>\n",
       "    <tr>\n",
       "      <th>301</th>\n",
       "      <td>4</td>\n",
       "      <td>4</td>\n",
       "    </tr>\n",
       "    <tr>\n",
       "      <th>302</th>\n",
       "      <td>1</td>\n",
       "      <td>1</td>\n",
       "    </tr>\n",
       "    <tr>\n",
       "      <th>303</th>\n",
       "      <td>8</td>\n",
       "      <td>8</td>\n",
       "    </tr>\n",
       "    <tr>\n",
       "      <th>304</th>\n",
       "      <td>1</td>\n",
       "      <td>1</td>\n",
       "    </tr>\n",
       "    <tr>\n",
       "      <th>305</th>\n",
       "      <td>4</td>\n",
       "      <td>4</td>\n",
       "    </tr>\n",
       "    <tr>\n",
       "      <th>306</th>\n",
       "      <td>1</td>\n",
       "      <td>1</td>\n",
       "    </tr>\n",
       "    <tr>\n",
       "      <th>307</th>\n",
       "      <td>2</td>\n",
       "      <td>2</td>\n",
       "    </tr>\n",
       "    <tr>\n",
       "      <th>308</th>\n",
       "      <td>4</td>\n",
       "      <td>4</td>\n",
       "    </tr>\n",
       "    <tr>\n",
       "      <th>309</th>\n",
       "      <td>4 (12 Online)</td>\n",
       "      <td>4</td>\n",
       "    </tr>\n",
       "    <tr>\n",
       "      <th>310</th>\n",
       "      <td>2</td>\n",
       "      <td>2</td>\n",
       "    </tr>\n",
       "    <tr>\n",
       "      <th>311</th>\n",
       "      <td>1</td>\n",
       "      <td>1</td>\n",
       "    </tr>\n",
       "    <tr>\n",
       "      <th>312</th>\n",
       "      <td>2</td>\n",
       "      <td>2</td>\n",
       "    </tr>\n",
       "    <tr>\n",
       "      <th>313</th>\n",
       "      <td>6</td>\n",
       "      <td>6</td>\n",
       "    </tr>\n",
       "    <tr>\n",
       "      <th>314</th>\n",
       "      <td>8</td>\n",
       "      <td>8</td>\n",
       "    </tr>\n",
       "    <tr>\n",
       "      <th>315</th>\n",
       "      <td>2</td>\n",
       "      <td>2</td>\n",
       "    </tr>\n",
       "    <tr>\n",
       "      <th>316</th>\n",
       "      <td>1</td>\n",
       "      <td>1</td>\n",
       "    </tr>\n",
       "  </tbody>\n",
       "</table>\n",
       "</div>"
      ],
      "text/plain": [
       "       num_players num_players_offline\n",
       "297              2                   2\n",
       "298              2                   2\n",
       "299              4                   4\n",
       "300              1                   1\n",
       "301              4                   4\n",
       "302              1                   1\n",
       "303              8                   8\n",
       "304              1                   1\n",
       "305              4                   4\n",
       "306              1                   1\n",
       "307              2                   2\n",
       "308              4                   4\n",
       "309  4 (12 Online)                   4\n",
       "310              2                   2\n",
       "311              1                   1\n",
       "312              2                   2\n",
       "313              6                   6\n",
       "314              8                   8\n",
       "315              2                   2\n",
       "316              1                   1"
      ]
     },
     "execution_count": 35,
     "metadata": {},
     "output_type": "execute_result"
    }
   ],
   "source": [
    "pd.set_option('display.max_rows', None)\n",
    "df_reviewed[['num_players','num_players_offline']].tail(20)"
   ]
  },
  {
   "cell_type": "code",
   "execution_count": 36,
   "id": "940cfe4e",
   "metadata": {},
   "outputs": [
    {
     "data": {
      "text/html": [
       "<div>\n",
       "<style scoped>\n",
       "    .dataframe tbody tr th:only-of-type {\n",
       "        vertical-align: middle;\n",
       "    }\n",
       "\n",
       "    .dataframe tbody tr th {\n",
       "        vertical-align: top;\n",
       "    }\n",
       "\n",
       "    .dataframe thead th {\n",
       "        text-align: right;\n",
       "    }\n",
       "</style>\n",
       "<table border=\"1\" class=\"dataframe\">\n",
       "  <thead>\n",
       "    <tr style=\"text-align: right;\">\n",
       "      <th></th>\n",
       "      <th>id</th>\n",
       "      <th>title</th>\n",
       "      <th>system</th>\n",
       "      <th>publisher</th>\n",
       "      <th>developer</th>\n",
       "      <th>genre</th>\n",
       "      <th>genre_reduced</th>\n",
       "      <th>num_players</th>\n",
       "      <th>num_players_offline</th>\n",
       "      <th>release_date</th>\n",
       "      <th>review</th>\n",
       "      <th>review_conclusion</th>\n",
       "      <th>num_votes</th>\n",
       "      <th>rating</th>\n",
       "    </tr>\n",
       "  </thead>\n",
       "  <tbody>\n",
       "  </tbody>\n",
       "</table>\n",
       "</div>"
      ],
      "text/plain": [
       "Empty DataFrame\n",
       "Columns: [id, title, system, publisher, developer, genre, genre_reduced, num_players, num_players_offline, release_date, review, review_conclusion, num_votes, rating]\n",
       "Index: []"
      ]
     },
     "execution_count": 36,
     "metadata": {},
     "output_type": "execute_result"
    }
   ],
   "source": [
    "# check for empty data in num_players_offline column\n",
    "\n",
    "df_reviewed[df_reviewed['num_players_offline']==' ']"
   ]
  },
  {
   "cell_type": "code",
   "execution_count": 37,
   "id": "149ce01c",
   "metadata": {},
   "outputs": [
    {
     "data": {
      "text/plain": [
       "num_players_offline\n",
       "1     156\n",
       "2      57\n",
       "4      55\n",
       "8      28\n",
       "6      11\n",
       "10      5\n",
       "5       2\n",
       "12      2\n",
       "16      1\n",
       "Name: count, dtype: int64"
      ]
     },
     "execution_count": 37,
     "metadata": {},
     "output_type": "execute_result"
    }
   ],
   "source": [
    "# count number of offline players for each game\n",
    "\n",
    "df_reviewed['num_players_offline'].value_counts()"
   ]
  },
  {
   "cell_type": "code",
   "execution_count": 38,
   "id": "1ff22887",
   "metadata": {},
   "outputs": [],
   "source": [
    "# sort by game rating to find best options\n",
    "\n",
    "df_reviewed_sorted = df_reviewed.sort_values(by='rating', ascending=False)"
   ]
  },
  {
   "cell_type": "code",
   "execution_count": 39,
   "id": "3978be15",
   "metadata": {},
   "outputs": [
    {
     "data": {
      "text/html": [
       "<div>\n",
       "<style scoped>\n",
       "    .dataframe tbody tr th:only-of-type {\n",
       "        vertical-align: middle;\n",
       "    }\n",
       "\n",
       "    .dataframe tbody tr th {\n",
       "        vertical-align: top;\n",
       "    }\n",
       "\n",
       "    .dataframe thead th {\n",
       "        text-align: right;\n",
       "    }\n",
       "</style>\n",
       "<table border=\"1\" class=\"dataframe\">\n",
       "  <thead>\n",
       "    <tr style=\"text-align: right;\">\n",
       "      <th></th>\n",
       "      <th>id</th>\n",
       "      <th>title</th>\n",
       "      <th>system</th>\n",
       "      <th>publisher</th>\n",
       "      <th>developer</th>\n",
       "      <th>genre</th>\n",
       "      <th>genre_reduced</th>\n",
       "      <th>num_players</th>\n",
       "      <th>num_players_offline</th>\n",
       "      <th>release_date</th>\n",
       "      <th>review</th>\n",
       "      <th>review_conclusion</th>\n",
       "      <th>num_votes</th>\n",
       "      <th>rating</th>\n",
       "    </tr>\n",
       "  </thead>\n",
       "  <tbody>\n",
       "    <tr>\n",
       "      <th>316</th>\n",
       "      <td>97fc82c2</td>\n",
       "      <td>The Legend of Zelda: Breath of the Wild</td>\n",
       "      <td>Nintendo Switch</td>\n",
       "      <td>Nintendo</td>\n",
       "      <td>Nintendo SPD</td>\n",
       "      <td>Action  Adventure</td>\n",
       "      <td>Adventure</td>\n",
       "      <td>1</td>\n",
       "      <td>1</td>\n",
       "      <td>3rd Mar 2017</td>\n",
       "      <td>The Legend of Zelda has always been a franchis...</td>\n",
       "      <td>The Legend of Zelda: Breath of the Wild is a l...</td>\n",
       "      <td>2782</td>\n",
       "      <td>9.6</td>\n",
       "    </tr>\n",
       "    <tr>\n",
       "      <th>1</th>\n",
       "      <td>54ce4908</td>\n",
       "      <td>Xenoblade Chronicles 3</td>\n",
       "      <td>Nintendo Switch</td>\n",
       "      <td>Nintendo</td>\n",
       "      <td>Monolith Soft</td>\n",
       "      <td>RPG</td>\n",
       "      <td>RPG</td>\n",
       "      <td>1</td>\n",
       "      <td>1</td>\n",
       "      <td>29th Jul 2022</td>\n",
       "      <td>The Xenoblade Chronicles 3 key art promises a ...</td>\n",
       "      <td>Xenoblade Chronicles 3 is a genuine masterpiec...</td>\n",
       "      <td>70</td>\n",
       "      <td>9.4</td>\n",
       "    </tr>\n",
       "    <tr>\n",
       "      <th>24</th>\n",
       "      <td>fbc872d6</td>\n",
       "      <td>Metroid Dread</td>\n",
       "      <td>Nintendo Switch</td>\n",
       "      <td>Nintendo</td>\n",
       "      <td>Nintendo  MercurySteam</td>\n",
       "      <td>Action  Adventure</td>\n",
       "      <td>Adventure</td>\n",
       "      <td>1</td>\n",
       "      <td>1</td>\n",
       "      <td>8th Oct 2021</td>\n",
       "      <td>After absolutely nailing its first shot at a M...</td>\n",
       "      <td>Metroid Dread is a triumphant return for both ...</td>\n",
       "      <td>952</td>\n",
       "      <td>9.3</td>\n",
       "    </tr>\n",
       "    <tr>\n",
       "      <th>103</th>\n",
       "      <td>8f5138a4</td>\n",
       "      <td>Xenoblade Chronicles: Definitive Edition</td>\n",
       "      <td>Nintendo Switch</td>\n",
       "      <td>Nintendo</td>\n",
       "      <td>Monolith Soft</td>\n",
       "      <td>RPG</td>\n",
       "      <td>RPG</td>\n",
       "      <td>1</td>\n",
       "      <td>1</td>\n",
       "      <td>29th May 2020</td>\n",
       "      <td>If you were around to browse this site about n...</td>\n",
       "      <td>Simply put  there’s almost nothing one can rea...</td>\n",
       "      <td>479</td>\n",
       "      <td>9.3</td>\n",
       "    </tr>\n",
       "    <tr>\n",
       "      <th>153</th>\n",
       "      <td>322d1231</td>\n",
       "      <td>Dragon Quest XI S: Echoes of an Elusive Age - ...</td>\n",
       "      <td>Nintendo Switch</td>\n",
       "      <td>Square Enix</td>\n",
       "      <td>Square Enix</td>\n",
       "      <td>RPG</td>\n",
       "      <td>RPG</td>\n",
       "      <td>1</td>\n",
       "      <td>1</td>\n",
       "      <td>27th Sep 2019</td>\n",
       "      <td>It’s fascinating to see how much the JRPG genr...</td>\n",
       "      <td>Dragon Quest XI S: Echoes of an Elusive Age - ...</td>\n",
       "      <td>872</td>\n",
       "      <td>9.1</td>\n",
       "    </tr>\n",
       "    <tr>\n",
       "      <th>0</th>\n",
       "      <td>4377dbf1</td>\n",
       "      <td>Splatoon 3</td>\n",
       "      <td>Nintendo Switch</td>\n",
       "      <td>Nintendo</td>\n",
       "      <td>Nintendo</td>\n",
       "      <td>Action</td>\n",
       "      <td>Action</td>\n",
       "      <td>1 (8 Online)</td>\n",
       "      <td>1</td>\n",
       "      <td>9th Sep 2022</td>\n",
       "      <td>When the original Splatoon launched on the Wii...</td>\n",
       "      <td>Splatoon 3 is more of the same  but refined to...</td>\n",
       "      <td>42</td>\n",
       "      <td>9.1</td>\n",
       "    </tr>\n",
       "    <tr>\n",
       "      <th>9</th>\n",
       "      <td>5d25498b</td>\n",
       "      <td>Kirby and the Forgotten Land</td>\n",
       "      <td>Nintendo Switch</td>\n",
       "      <td>Nintendo</td>\n",
       "      <td>HAL Laboratory</td>\n",
       "      <td>Action  Platformer</td>\n",
       "      <td>Platformer</td>\n",
       "      <td>1</td>\n",
       "      <td>1</td>\n",
       "      <td>25th Mar 2022</td>\n",
       "      <td>Well. Its finally here. In celebration of 30 w...</td>\n",
       "      <td>Kirby and the Forgotten Land is a great big co...</td>\n",
       "      <td>173</td>\n",
       "      <td>9.0</td>\n",
       "    </tr>\n",
       "    <tr>\n",
       "      <th>171</th>\n",
       "      <td>56c0abda</td>\n",
       "      <td>Fire Emblem: Three Houses</td>\n",
       "      <td>Nintendo Switch</td>\n",
       "      <td>Nintendo</td>\n",
       "      <td>Intelligent Systems</td>\n",
       "      <td>Adventure  RPG  Strategy</td>\n",
       "      <td>RPG</td>\n",
       "      <td>1</td>\n",
       "      <td>1</td>\n",
       "      <td>26th Jul 2019</td>\n",
       "      <td>Fire Emblem has been through quite a rollercoa...</td>\n",
       "      <td>There was a lot riding on it  but we can confi...</td>\n",
       "      <td>894</td>\n",
       "      <td>9.0</td>\n",
       "    </tr>\n",
       "    <tr>\n",
       "      <th>231</th>\n",
       "      <td>2771051d</td>\n",
       "      <td>Xenoblade Chronicles 2: Torna - The Golden Cou...</td>\n",
       "      <td>Nintendo Switch</td>\n",
       "      <td>Nintendo</td>\n",
       "      <td>Monolith Soft</td>\n",
       "      <td>Adventure  RPG</td>\n",
       "      <td>RPG</td>\n",
       "      <td>1</td>\n",
       "      <td>1</td>\n",
       "      <td>21st Sep 2018</td>\n",
       "      <td>By the time Xenoblade Chronicles 2 launched in...</td>\n",
       "      <td>Nintendo Switch is no stranger to DLC and add-...</td>\n",
       "      <td>264</td>\n",
       "      <td>8.9</td>\n",
       "    </tr>\n",
       "    <tr>\n",
       "      <th>112</th>\n",
       "      <td>06847e1a</td>\n",
       "      <td>Animal Crossing: New Horizons</td>\n",
       "      <td>Nintendo Switch</td>\n",
       "      <td>Nintendo</td>\n",
       "      <td>Nintendo</td>\n",
       "      <td>Adventure  Puzzle  Simulation</td>\n",
       "      <td>Adventure</td>\n",
       "      <td>1 (8 Online)</td>\n",
       "      <td>1</td>\n",
       "      <td>20th Mar 2020</td>\n",
       "      <td>Back when – what feels like forever ago – we f...</td>\n",
       "      <td>Animal Crossing: New Horizons takes Animal Cro...</td>\n",
       "      <td>1214</td>\n",
       "      <td>8.8</td>\n",
       "    </tr>\n",
       "  </tbody>\n",
       "</table>\n",
       "</div>"
      ],
      "text/plain": [
       "           id                                              title  \\\n",
       "316  97fc82c2            The Legend of Zelda: Breath of the Wild   \n",
       "1    54ce4908                             Xenoblade Chronicles 3   \n",
       "24   fbc872d6                                      Metroid Dread   \n",
       "103  8f5138a4           Xenoblade Chronicles: Definitive Edition   \n",
       "153  322d1231  Dragon Quest XI S: Echoes of an Elusive Age - ...   \n",
       "0    4377dbf1                                         Splatoon 3   \n",
       "9    5d25498b                       Kirby and the Forgotten Land   \n",
       "171  56c0abda                          Fire Emblem: Three Houses   \n",
       "231  2771051d  Xenoblade Chronicles 2: Torna - The Golden Cou...   \n",
       "112  06847e1a                      Animal Crossing: New Horizons   \n",
       "\n",
       "              system    publisher               developer  \\\n",
       "316  Nintendo Switch     Nintendo            Nintendo SPD   \n",
       "1    Nintendo Switch     Nintendo           Monolith Soft   \n",
       "24   Nintendo Switch     Nintendo  Nintendo  MercurySteam   \n",
       "103  Nintendo Switch     Nintendo           Monolith Soft   \n",
       "153  Nintendo Switch  Square Enix             Square Enix   \n",
       "0    Nintendo Switch     Nintendo                Nintendo   \n",
       "9    Nintendo Switch     Nintendo          HAL Laboratory   \n",
       "171  Nintendo Switch     Nintendo     Intelligent Systems   \n",
       "231  Nintendo Switch     Nintendo           Monolith Soft   \n",
       "112  Nintendo Switch     Nintendo                Nintendo   \n",
       "\n",
       "                             genre genre_reduced   num_players  \\\n",
       "316              Action  Adventure     Adventure             1   \n",
       "1                              RPG           RPG             1   \n",
       "24               Action  Adventure     Adventure             1   \n",
       "103                            RPG           RPG             1   \n",
       "153                            RPG           RPG             1   \n",
       "0                           Action        Action  1 (8 Online)   \n",
       "9               Action  Platformer    Platformer             1   \n",
       "171       Adventure  RPG  Strategy           RPG             1   \n",
       "231                 Adventure  RPG           RPG             1   \n",
       "112  Adventure  Puzzle  Simulation     Adventure  1 (8 Online)   \n",
       "\n",
       "    num_players_offline   release_date  \\\n",
       "316                   1   3rd Mar 2017   \n",
       "1                     1  29th Jul 2022   \n",
       "24                    1   8th Oct 2021   \n",
       "103                   1  29th May 2020   \n",
       "153                   1  27th Sep 2019   \n",
       "0                     1   9th Sep 2022   \n",
       "9                     1  25th Mar 2022   \n",
       "171                   1  26th Jul 2019   \n",
       "231                   1  21st Sep 2018   \n",
       "112                   1  20th Mar 2020   \n",
       "\n",
       "                                                review  \\\n",
       "316  The Legend of Zelda has always been a franchis...   \n",
       "1    The Xenoblade Chronicles 3 key art promises a ...   \n",
       "24   After absolutely nailing its first shot at a M...   \n",
       "103  If you were around to browse this site about n...   \n",
       "153  It’s fascinating to see how much the JRPG genr...   \n",
       "0    When the original Splatoon launched on the Wii...   \n",
       "9    Well. Its finally here. In celebration of 30 w...   \n",
       "171  Fire Emblem has been through quite a rollercoa...   \n",
       "231  By the time Xenoblade Chronicles 2 launched in...   \n",
       "112  Back when – what feels like forever ago – we f...   \n",
       "\n",
       "                                     review_conclusion  num_votes  rating  \n",
       "316  The Legend of Zelda: Breath of the Wild is a l...       2782     9.6  \n",
       "1    Xenoblade Chronicles 3 is a genuine masterpiec...         70     9.4  \n",
       "24   Metroid Dread is a triumphant return for both ...        952     9.3  \n",
       "103  Simply put  there’s almost nothing one can rea...        479     9.3  \n",
       "153  Dragon Quest XI S: Echoes of an Elusive Age - ...        872     9.1  \n",
       "0    Splatoon 3 is more of the same  but refined to...         42     9.1  \n",
       "9    Kirby and the Forgotten Land is a great big co...        173     9.0  \n",
       "171  There was a lot riding on it  but we can confi...        894     9.0  \n",
       "231  Nintendo Switch is no stranger to DLC and add-...        264     8.9  \n",
       "112  Animal Crossing: New Horizons takes Animal Cro...       1214     8.8  "
      ]
     },
     "execution_count": 39,
     "metadata": {},
     "output_type": "execute_result"
    }
   ],
   "source": [
    "# collect 10 top rated single-player games\n",
    "\n",
    "df_top10_single_player = df_reviewed_sorted[df_reviewed_sorted['num_players_offline']=='1'].head(10)\n",
    "df_top10_single_player"
   ]
  },
  {
   "cell_type": "code",
   "execution_count": 42,
   "id": "7b299e06",
   "metadata": {},
   "outputs": [
    {
     "data": {
      "application/vnd.plotly.v1+json": {
       "config": {
        "plotlyServerURL": "https://plot.ly"
       },
       "data": [
        {
         "alignmentgroup": "True",
         "hovertemplate": "genre=Adventure<br>Game Title=%{x}<br>Rating out of 10=%{y}<extra></extra>",
         "legendgroup": "Adventure",
         "marker": {
          "color": "#636efa",
          "pattern": {
           "shape": ""
          }
         },
         "name": "Adventure",
         "offsetgroup": "Adventure",
         "orientation": "v",
         "showlegend": true,
         "textposition": "auto",
         "type": "bar",
         "x": [
          "The Legend of Zelda: Breath of the Wild",
          "Metroid Dread",
          "Animal Crossing: New Horizons"
         ],
         "xaxis": "x",
         "y": [
          9.6,
          9.3,
          8.8
         ],
         "yaxis": "y"
        },
        {
         "alignmentgroup": "True",
         "hovertemplate": "genre=RPG<br>Game Title=%{x}<br>Rating out of 10=%{y}<extra></extra>",
         "legendgroup": "RPG",
         "marker": {
          "color": "#EF553B",
          "pattern": {
           "shape": ""
          }
         },
         "name": "RPG",
         "offsetgroup": "RPG",
         "orientation": "v",
         "showlegend": true,
         "textposition": "auto",
         "type": "bar",
         "x": [
          "Xenoblade Chronicles 3",
          "Xenoblade Chronicles: Definitive Edition",
          "Dragon Quest XI S: Echoes of an Elusive Age - Definitive Edition",
          "Fire Emblem: Three Houses",
          "Xenoblade Chronicles 2: Torna - The Golden Country"
         ],
         "xaxis": "x",
         "y": [
          9.4,
          9.3,
          9.1,
          9,
          8.9
         ],
         "yaxis": "y"
        },
        {
         "alignmentgroup": "True",
         "hovertemplate": "genre=Action<br>Game Title=%{x}<br>Rating out of 10=%{y}<extra></extra>",
         "legendgroup": "Action",
         "marker": {
          "color": "#00cc96",
          "pattern": {
           "shape": ""
          }
         },
         "name": "Action",
         "offsetgroup": "Action",
         "orientation": "v",
         "showlegend": true,
         "textposition": "auto",
         "type": "bar",
         "x": [
          "Splatoon 3"
         ],
         "xaxis": "x",
         "y": [
          9.1
         ],
         "yaxis": "y"
        },
        {
         "alignmentgroup": "True",
         "hovertemplate": "genre=Platformer<br>Game Title=%{x}<br>Rating out of 10=%{y}<extra></extra>",
         "legendgroup": "Platformer",
         "marker": {
          "color": "#ab63fa",
          "pattern": {
           "shape": ""
          }
         },
         "name": "Platformer",
         "offsetgroup": "Platformer",
         "orientation": "v",
         "showlegend": true,
         "textposition": "auto",
         "type": "bar",
         "x": [
          "Kirby and the Forgotten Land"
         ],
         "xaxis": "x",
         "y": [
          9
         ],
         "yaxis": "y"
        }
       ],
       "layout": {
        "barmode": "relative",
        "legend": {
         "title": {
          "text": "genre"
         },
         "tracegroupgap": 0
        },
        "template": {
         "data": {
          "bar": [
           {
            "error_x": {
             "color": "#2a3f5f"
            },
            "error_y": {
             "color": "#2a3f5f"
            },
            "marker": {
             "line": {
              "color": "#E5ECF6",
              "width": 0.5
             },
             "pattern": {
              "fillmode": "overlay",
              "size": 10,
              "solidity": 0.2
             }
            },
            "type": "bar"
           }
          ],
          "barpolar": [
           {
            "marker": {
             "line": {
              "color": "#E5ECF6",
              "width": 0.5
             },
             "pattern": {
              "fillmode": "overlay",
              "size": 10,
              "solidity": 0.2
             }
            },
            "type": "barpolar"
           }
          ],
          "carpet": [
           {
            "aaxis": {
             "endlinecolor": "#2a3f5f",
             "gridcolor": "white",
             "linecolor": "white",
             "minorgridcolor": "white",
             "startlinecolor": "#2a3f5f"
            },
            "baxis": {
             "endlinecolor": "#2a3f5f",
             "gridcolor": "white",
             "linecolor": "white",
             "minorgridcolor": "white",
             "startlinecolor": "#2a3f5f"
            },
            "type": "carpet"
           }
          ],
          "choropleth": [
           {
            "colorbar": {
             "outlinewidth": 0,
             "ticks": ""
            },
            "type": "choropleth"
           }
          ],
          "contour": [
           {
            "colorbar": {
             "outlinewidth": 0,
             "ticks": ""
            },
            "colorscale": [
             [
              0,
              "#0d0887"
             ],
             [
              0.1111111111111111,
              "#46039f"
             ],
             [
              0.2222222222222222,
              "#7201a8"
             ],
             [
              0.3333333333333333,
              "#9c179e"
             ],
             [
              0.4444444444444444,
              "#bd3786"
             ],
             [
              0.5555555555555556,
              "#d8576b"
             ],
             [
              0.6666666666666666,
              "#ed7953"
             ],
             [
              0.7777777777777778,
              "#fb9f3a"
             ],
             [
              0.8888888888888888,
              "#fdca26"
             ],
             [
              1,
              "#f0f921"
             ]
            ],
            "type": "contour"
           }
          ],
          "contourcarpet": [
           {
            "colorbar": {
             "outlinewidth": 0,
             "ticks": ""
            },
            "type": "contourcarpet"
           }
          ],
          "heatmap": [
           {
            "colorbar": {
             "outlinewidth": 0,
             "ticks": ""
            },
            "colorscale": [
             [
              0,
              "#0d0887"
             ],
             [
              0.1111111111111111,
              "#46039f"
             ],
             [
              0.2222222222222222,
              "#7201a8"
             ],
             [
              0.3333333333333333,
              "#9c179e"
             ],
             [
              0.4444444444444444,
              "#bd3786"
             ],
             [
              0.5555555555555556,
              "#d8576b"
             ],
             [
              0.6666666666666666,
              "#ed7953"
             ],
             [
              0.7777777777777778,
              "#fb9f3a"
             ],
             [
              0.8888888888888888,
              "#fdca26"
             ],
             [
              1,
              "#f0f921"
             ]
            ],
            "type": "heatmap"
           }
          ],
          "heatmapgl": [
           {
            "colorbar": {
             "outlinewidth": 0,
             "ticks": ""
            },
            "colorscale": [
             [
              0,
              "#0d0887"
             ],
             [
              0.1111111111111111,
              "#46039f"
             ],
             [
              0.2222222222222222,
              "#7201a8"
             ],
             [
              0.3333333333333333,
              "#9c179e"
             ],
             [
              0.4444444444444444,
              "#bd3786"
             ],
             [
              0.5555555555555556,
              "#d8576b"
             ],
             [
              0.6666666666666666,
              "#ed7953"
             ],
             [
              0.7777777777777778,
              "#fb9f3a"
             ],
             [
              0.8888888888888888,
              "#fdca26"
             ],
             [
              1,
              "#f0f921"
             ]
            ],
            "type": "heatmapgl"
           }
          ],
          "histogram": [
           {
            "marker": {
             "pattern": {
              "fillmode": "overlay",
              "size": 10,
              "solidity": 0.2
             }
            },
            "type": "histogram"
           }
          ],
          "histogram2d": [
           {
            "colorbar": {
             "outlinewidth": 0,
             "ticks": ""
            },
            "colorscale": [
             [
              0,
              "#0d0887"
             ],
             [
              0.1111111111111111,
              "#46039f"
             ],
             [
              0.2222222222222222,
              "#7201a8"
             ],
             [
              0.3333333333333333,
              "#9c179e"
             ],
             [
              0.4444444444444444,
              "#bd3786"
             ],
             [
              0.5555555555555556,
              "#d8576b"
             ],
             [
              0.6666666666666666,
              "#ed7953"
             ],
             [
              0.7777777777777778,
              "#fb9f3a"
             ],
             [
              0.8888888888888888,
              "#fdca26"
             ],
             [
              1,
              "#f0f921"
             ]
            ],
            "type": "histogram2d"
           }
          ],
          "histogram2dcontour": [
           {
            "colorbar": {
             "outlinewidth": 0,
             "ticks": ""
            },
            "colorscale": [
             [
              0,
              "#0d0887"
             ],
             [
              0.1111111111111111,
              "#46039f"
             ],
             [
              0.2222222222222222,
              "#7201a8"
             ],
             [
              0.3333333333333333,
              "#9c179e"
             ],
             [
              0.4444444444444444,
              "#bd3786"
             ],
             [
              0.5555555555555556,
              "#d8576b"
             ],
             [
              0.6666666666666666,
              "#ed7953"
             ],
             [
              0.7777777777777778,
              "#fb9f3a"
             ],
             [
              0.8888888888888888,
              "#fdca26"
             ],
             [
              1,
              "#f0f921"
             ]
            ],
            "type": "histogram2dcontour"
           }
          ],
          "mesh3d": [
           {
            "colorbar": {
             "outlinewidth": 0,
             "ticks": ""
            },
            "type": "mesh3d"
           }
          ],
          "parcoords": [
           {
            "line": {
             "colorbar": {
              "outlinewidth": 0,
              "ticks": ""
             }
            },
            "type": "parcoords"
           }
          ],
          "pie": [
           {
            "automargin": true,
            "type": "pie"
           }
          ],
          "scatter": [
           {
            "fillpattern": {
             "fillmode": "overlay",
             "size": 10,
             "solidity": 0.2
            },
            "type": "scatter"
           }
          ],
          "scatter3d": [
           {
            "line": {
             "colorbar": {
              "outlinewidth": 0,
              "ticks": ""
             }
            },
            "marker": {
             "colorbar": {
              "outlinewidth": 0,
              "ticks": ""
             }
            },
            "type": "scatter3d"
           }
          ],
          "scattercarpet": [
           {
            "marker": {
             "colorbar": {
              "outlinewidth": 0,
              "ticks": ""
             }
            },
            "type": "scattercarpet"
           }
          ],
          "scattergeo": [
           {
            "marker": {
             "colorbar": {
              "outlinewidth": 0,
              "ticks": ""
             }
            },
            "type": "scattergeo"
           }
          ],
          "scattergl": [
           {
            "marker": {
             "colorbar": {
              "outlinewidth": 0,
              "ticks": ""
             }
            },
            "type": "scattergl"
           }
          ],
          "scattermapbox": [
           {
            "marker": {
             "colorbar": {
              "outlinewidth": 0,
              "ticks": ""
             }
            },
            "type": "scattermapbox"
           }
          ],
          "scatterpolar": [
           {
            "marker": {
             "colorbar": {
              "outlinewidth": 0,
              "ticks": ""
             }
            },
            "type": "scatterpolar"
           }
          ],
          "scatterpolargl": [
           {
            "marker": {
             "colorbar": {
              "outlinewidth": 0,
              "ticks": ""
             }
            },
            "type": "scatterpolargl"
           }
          ],
          "scatterternary": [
           {
            "marker": {
             "colorbar": {
              "outlinewidth": 0,
              "ticks": ""
             }
            },
            "type": "scatterternary"
           }
          ],
          "surface": [
           {
            "colorbar": {
             "outlinewidth": 0,
             "ticks": ""
            },
            "colorscale": [
             [
              0,
              "#0d0887"
             ],
             [
              0.1111111111111111,
              "#46039f"
             ],
             [
              0.2222222222222222,
              "#7201a8"
             ],
             [
              0.3333333333333333,
              "#9c179e"
             ],
             [
              0.4444444444444444,
              "#bd3786"
             ],
             [
              0.5555555555555556,
              "#d8576b"
             ],
             [
              0.6666666666666666,
              "#ed7953"
             ],
             [
              0.7777777777777778,
              "#fb9f3a"
             ],
             [
              0.8888888888888888,
              "#fdca26"
             ],
             [
              1,
              "#f0f921"
             ]
            ],
            "type": "surface"
           }
          ],
          "table": [
           {
            "cells": {
             "fill": {
              "color": "#EBF0F8"
             },
             "line": {
              "color": "white"
             }
            },
            "header": {
             "fill": {
              "color": "#C8D4E3"
             },
             "line": {
              "color": "white"
             }
            },
            "type": "table"
           }
          ]
         },
         "layout": {
          "annotationdefaults": {
           "arrowcolor": "#2a3f5f",
           "arrowhead": 0,
           "arrowwidth": 1
          },
          "autotypenumbers": "strict",
          "coloraxis": {
           "colorbar": {
            "outlinewidth": 0,
            "ticks": ""
           }
          },
          "colorscale": {
           "diverging": [
            [
             0,
             "#8e0152"
            ],
            [
             0.1,
             "#c51b7d"
            ],
            [
             0.2,
             "#de77ae"
            ],
            [
             0.3,
             "#f1b6da"
            ],
            [
             0.4,
             "#fde0ef"
            ],
            [
             0.5,
             "#f7f7f7"
            ],
            [
             0.6,
             "#e6f5d0"
            ],
            [
             0.7,
             "#b8e186"
            ],
            [
             0.8,
             "#7fbc41"
            ],
            [
             0.9,
             "#4d9221"
            ],
            [
             1,
             "#276419"
            ]
           ],
           "sequential": [
            [
             0,
             "#0d0887"
            ],
            [
             0.1111111111111111,
             "#46039f"
            ],
            [
             0.2222222222222222,
             "#7201a8"
            ],
            [
             0.3333333333333333,
             "#9c179e"
            ],
            [
             0.4444444444444444,
             "#bd3786"
            ],
            [
             0.5555555555555556,
             "#d8576b"
            ],
            [
             0.6666666666666666,
             "#ed7953"
            ],
            [
             0.7777777777777778,
             "#fb9f3a"
            ],
            [
             0.8888888888888888,
             "#fdca26"
            ],
            [
             1,
             "#f0f921"
            ]
           ],
           "sequentialminus": [
            [
             0,
             "#0d0887"
            ],
            [
             0.1111111111111111,
             "#46039f"
            ],
            [
             0.2222222222222222,
             "#7201a8"
            ],
            [
             0.3333333333333333,
             "#9c179e"
            ],
            [
             0.4444444444444444,
             "#bd3786"
            ],
            [
             0.5555555555555556,
             "#d8576b"
            ],
            [
             0.6666666666666666,
             "#ed7953"
            ],
            [
             0.7777777777777778,
             "#fb9f3a"
            ],
            [
             0.8888888888888888,
             "#fdca26"
            ],
            [
             1,
             "#f0f921"
            ]
           ]
          },
          "colorway": [
           "#636efa",
           "#EF553B",
           "#00cc96",
           "#ab63fa",
           "#FFA15A",
           "#19d3f3",
           "#FF6692",
           "#B6E880",
           "#FF97FF",
           "#FECB52"
          ],
          "font": {
           "color": "#2a3f5f"
          },
          "geo": {
           "bgcolor": "white",
           "lakecolor": "white",
           "landcolor": "#E5ECF6",
           "showlakes": true,
           "showland": true,
           "subunitcolor": "white"
          },
          "hoverlabel": {
           "align": "left"
          },
          "hovermode": "closest",
          "mapbox": {
           "style": "light"
          },
          "paper_bgcolor": "white",
          "plot_bgcolor": "#E5ECF6",
          "polar": {
           "angularaxis": {
            "gridcolor": "white",
            "linecolor": "white",
            "ticks": ""
           },
           "bgcolor": "#E5ECF6",
           "radialaxis": {
            "gridcolor": "white",
            "linecolor": "white",
            "ticks": ""
           }
          },
          "scene": {
           "xaxis": {
            "backgroundcolor": "#E5ECF6",
            "gridcolor": "white",
            "gridwidth": 2,
            "linecolor": "white",
            "showbackground": true,
            "ticks": "",
            "zerolinecolor": "white"
           },
           "yaxis": {
            "backgroundcolor": "#E5ECF6",
            "gridcolor": "white",
            "gridwidth": 2,
            "linecolor": "white",
            "showbackground": true,
            "ticks": "",
            "zerolinecolor": "white"
           },
           "zaxis": {
            "backgroundcolor": "#E5ECF6",
            "gridcolor": "white",
            "gridwidth": 2,
            "linecolor": "white",
            "showbackground": true,
            "ticks": "",
            "zerolinecolor": "white"
           }
          },
          "shapedefaults": {
           "line": {
            "color": "#2a3f5f"
           }
          },
          "ternary": {
           "aaxis": {
            "gridcolor": "white",
            "linecolor": "white",
            "ticks": ""
           },
           "baxis": {
            "gridcolor": "white",
            "linecolor": "white",
            "ticks": ""
           },
           "bgcolor": "#E5ECF6",
           "caxis": {
            "gridcolor": "white",
            "linecolor": "white",
            "ticks": ""
           }
          },
          "title": {
           "x": 0.05
          },
          "xaxis": {
           "automargin": true,
           "gridcolor": "white",
           "linecolor": "white",
           "ticks": "",
           "title": {
            "standoff": 15
           },
           "zerolinecolor": "white",
           "zerolinewidth": 2
          },
          "yaxis": {
           "automargin": true,
           "gridcolor": "white",
           "linecolor": "white",
           "ticks": "",
           "title": {
            "standoff": 15
           },
           "zerolinecolor": "white",
           "zerolinewidth": 2
          }
         }
        },
        "title": {
         "text": "Top Rated Single Player Games"
        },
        "xaxis": {
         "anchor": "y",
         "domain": [
          0,
          1
         ],
         "title": {
          "text": "Game Title"
         }
        },
        "yaxis": {
         "anchor": "x",
         "domain": [
          0,
          1
         ],
         "range": [
          8.5,
          10
         ],
         "title": {
          "text": "Rating out of 10"
         }
        }
       }
      },
      "text/html": [
       "<div>                            <div id=\"9c534138-ce06-43a5-8973-a5cdb9acd88d\" class=\"plotly-graph-div\" style=\"height:525px; width:100%;\"></div>            <script type=\"text/javascript\">                require([\"plotly\"], function(Plotly) {                    window.PLOTLYENV=window.PLOTLYENV || {};                                    if (document.getElementById(\"9c534138-ce06-43a5-8973-a5cdb9acd88d\")) {                    Plotly.newPlot(                        \"9c534138-ce06-43a5-8973-a5cdb9acd88d\",                        [{\"alignmentgroup\":\"True\",\"hovertemplate\":\"genre=Adventure<br>Game Title=%{x}<br>Rating out of 10=%{y}<extra></extra>\",\"legendgroup\":\"Adventure\",\"marker\":{\"color\":\"#636efa\",\"pattern\":{\"shape\":\"\"}},\"name\":\"Adventure\",\"offsetgroup\":\"Adventure\",\"orientation\":\"v\",\"showlegend\":true,\"textposition\":\"auto\",\"x\":[\"The Legend of Zelda: Breath of the Wild\",\"Metroid Dread\",\"Animal Crossing: New Horizons\"],\"xaxis\":\"x\",\"y\":[9.6,9.3,8.8],\"yaxis\":\"y\",\"type\":\"bar\"},{\"alignmentgroup\":\"True\",\"hovertemplate\":\"genre=RPG<br>Game Title=%{x}<br>Rating out of 10=%{y}<extra></extra>\",\"legendgroup\":\"RPG\",\"marker\":{\"color\":\"#EF553B\",\"pattern\":{\"shape\":\"\"}},\"name\":\"RPG\",\"offsetgroup\":\"RPG\",\"orientation\":\"v\",\"showlegend\":true,\"textposition\":\"auto\",\"x\":[\"Xenoblade Chronicles 3\",\"Xenoblade Chronicles: Definitive Edition\",\"Dragon Quest XI S: Echoes of an Elusive Age - Definitive Edition\",\"Fire Emblem: Three Houses\",\"Xenoblade Chronicles 2: Torna - The Golden Country\"],\"xaxis\":\"x\",\"y\":[9.4,9.3,9.1,9.0,8.9],\"yaxis\":\"y\",\"type\":\"bar\"},{\"alignmentgroup\":\"True\",\"hovertemplate\":\"genre=Action<br>Game Title=%{x}<br>Rating out of 10=%{y}<extra></extra>\",\"legendgroup\":\"Action\",\"marker\":{\"color\":\"#00cc96\",\"pattern\":{\"shape\":\"\"}},\"name\":\"Action\",\"offsetgroup\":\"Action\",\"orientation\":\"v\",\"showlegend\":true,\"textposition\":\"auto\",\"x\":[\"Splatoon 3\"],\"xaxis\":\"x\",\"y\":[9.1],\"yaxis\":\"y\",\"type\":\"bar\"},{\"alignmentgroup\":\"True\",\"hovertemplate\":\"genre=Platformer<br>Game Title=%{x}<br>Rating out of 10=%{y}<extra></extra>\",\"legendgroup\":\"Platformer\",\"marker\":{\"color\":\"#ab63fa\",\"pattern\":{\"shape\":\"\"}},\"name\":\"Platformer\",\"offsetgroup\":\"Platformer\",\"orientation\":\"v\",\"showlegend\":true,\"textposition\":\"auto\",\"x\":[\"Kirby and the Forgotten Land\"],\"xaxis\":\"x\",\"y\":[9.0],\"yaxis\":\"y\",\"type\":\"bar\"}],                        {\"template\":{\"data\":{\"histogram2dcontour\":[{\"type\":\"histogram2dcontour\",\"colorbar\":{\"outlinewidth\":0,\"ticks\":\"\"},\"colorscale\":[[0.0,\"#0d0887\"],[0.1111111111111111,\"#46039f\"],[0.2222222222222222,\"#7201a8\"],[0.3333333333333333,\"#9c179e\"],[0.4444444444444444,\"#bd3786\"],[0.5555555555555556,\"#d8576b\"],[0.6666666666666666,\"#ed7953\"],[0.7777777777777778,\"#fb9f3a\"],[0.8888888888888888,\"#fdca26\"],[1.0,\"#f0f921\"]]}],\"choropleth\":[{\"type\":\"choropleth\",\"colorbar\":{\"outlinewidth\":0,\"ticks\":\"\"}}],\"histogram2d\":[{\"type\":\"histogram2d\",\"colorbar\":{\"outlinewidth\":0,\"ticks\":\"\"},\"colorscale\":[[0.0,\"#0d0887\"],[0.1111111111111111,\"#46039f\"],[0.2222222222222222,\"#7201a8\"],[0.3333333333333333,\"#9c179e\"],[0.4444444444444444,\"#bd3786\"],[0.5555555555555556,\"#d8576b\"],[0.6666666666666666,\"#ed7953\"],[0.7777777777777778,\"#fb9f3a\"],[0.8888888888888888,\"#fdca26\"],[1.0,\"#f0f921\"]]}],\"heatmap\":[{\"type\":\"heatmap\",\"colorbar\":{\"outlinewidth\":0,\"ticks\":\"\"},\"colorscale\":[[0.0,\"#0d0887\"],[0.1111111111111111,\"#46039f\"],[0.2222222222222222,\"#7201a8\"],[0.3333333333333333,\"#9c179e\"],[0.4444444444444444,\"#bd3786\"],[0.5555555555555556,\"#d8576b\"],[0.6666666666666666,\"#ed7953\"],[0.7777777777777778,\"#fb9f3a\"],[0.8888888888888888,\"#fdca26\"],[1.0,\"#f0f921\"]]}],\"heatmapgl\":[{\"type\":\"heatmapgl\",\"colorbar\":{\"outlinewidth\":0,\"ticks\":\"\"},\"colorscale\":[[0.0,\"#0d0887\"],[0.1111111111111111,\"#46039f\"],[0.2222222222222222,\"#7201a8\"],[0.3333333333333333,\"#9c179e\"],[0.4444444444444444,\"#bd3786\"],[0.5555555555555556,\"#d8576b\"],[0.6666666666666666,\"#ed7953\"],[0.7777777777777778,\"#fb9f3a\"],[0.8888888888888888,\"#fdca26\"],[1.0,\"#f0f921\"]]}],\"contourcarpet\":[{\"type\":\"contourcarpet\",\"colorbar\":{\"outlinewidth\":0,\"ticks\":\"\"}}],\"contour\":[{\"type\":\"contour\",\"colorbar\":{\"outlinewidth\":0,\"ticks\":\"\"},\"colorscale\":[[0.0,\"#0d0887\"],[0.1111111111111111,\"#46039f\"],[0.2222222222222222,\"#7201a8\"],[0.3333333333333333,\"#9c179e\"],[0.4444444444444444,\"#bd3786\"],[0.5555555555555556,\"#d8576b\"],[0.6666666666666666,\"#ed7953\"],[0.7777777777777778,\"#fb9f3a\"],[0.8888888888888888,\"#fdca26\"],[1.0,\"#f0f921\"]]}],\"surface\":[{\"type\":\"surface\",\"colorbar\":{\"outlinewidth\":0,\"ticks\":\"\"},\"colorscale\":[[0.0,\"#0d0887\"],[0.1111111111111111,\"#46039f\"],[0.2222222222222222,\"#7201a8\"],[0.3333333333333333,\"#9c179e\"],[0.4444444444444444,\"#bd3786\"],[0.5555555555555556,\"#d8576b\"],[0.6666666666666666,\"#ed7953\"],[0.7777777777777778,\"#fb9f3a\"],[0.8888888888888888,\"#fdca26\"],[1.0,\"#f0f921\"]]}],\"mesh3d\":[{\"type\":\"mesh3d\",\"colorbar\":{\"outlinewidth\":0,\"ticks\":\"\"}}],\"scatter\":[{\"fillpattern\":{\"fillmode\":\"overlay\",\"size\":10,\"solidity\":0.2},\"type\":\"scatter\"}],\"parcoords\":[{\"type\":\"parcoords\",\"line\":{\"colorbar\":{\"outlinewidth\":0,\"ticks\":\"\"}}}],\"scatterpolargl\":[{\"type\":\"scatterpolargl\",\"marker\":{\"colorbar\":{\"outlinewidth\":0,\"ticks\":\"\"}}}],\"bar\":[{\"error_x\":{\"color\":\"#2a3f5f\"},\"error_y\":{\"color\":\"#2a3f5f\"},\"marker\":{\"line\":{\"color\":\"#E5ECF6\",\"width\":0.5},\"pattern\":{\"fillmode\":\"overlay\",\"size\":10,\"solidity\":0.2}},\"type\":\"bar\"}],\"scattergeo\":[{\"type\":\"scattergeo\",\"marker\":{\"colorbar\":{\"outlinewidth\":0,\"ticks\":\"\"}}}],\"scatterpolar\":[{\"type\":\"scatterpolar\",\"marker\":{\"colorbar\":{\"outlinewidth\":0,\"ticks\":\"\"}}}],\"histogram\":[{\"marker\":{\"pattern\":{\"fillmode\":\"overlay\",\"size\":10,\"solidity\":0.2}},\"type\":\"histogram\"}],\"scattergl\":[{\"type\":\"scattergl\",\"marker\":{\"colorbar\":{\"outlinewidth\":0,\"ticks\":\"\"}}}],\"scatter3d\":[{\"type\":\"scatter3d\",\"line\":{\"colorbar\":{\"outlinewidth\":0,\"ticks\":\"\"}},\"marker\":{\"colorbar\":{\"outlinewidth\":0,\"ticks\":\"\"}}}],\"scattermapbox\":[{\"type\":\"scattermapbox\",\"marker\":{\"colorbar\":{\"outlinewidth\":0,\"ticks\":\"\"}}}],\"scatterternary\":[{\"type\":\"scatterternary\",\"marker\":{\"colorbar\":{\"outlinewidth\":0,\"ticks\":\"\"}}}],\"scattercarpet\":[{\"type\":\"scattercarpet\",\"marker\":{\"colorbar\":{\"outlinewidth\":0,\"ticks\":\"\"}}}],\"carpet\":[{\"aaxis\":{\"endlinecolor\":\"#2a3f5f\",\"gridcolor\":\"white\",\"linecolor\":\"white\",\"minorgridcolor\":\"white\",\"startlinecolor\":\"#2a3f5f\"},\"baxis\":{\"endlinecolor\":\"#2a3f5f\",\"gridcolor\":\"white\",\"linecolor\":\"white\",\"minorgridcolor\":\"white\",\"startlinecolor\":\"#2a3f5f\"},\"type\":\"carpet\"}],\"table\":[{\"cells\":{\"fill\":{\"color\":\"#EBF0F8\"},\"line\":{\"color\":\"white\"}},\"header\":{\"fill\":{\"color\":\"#C8D4E3\"},\"line\":{\"color\":\"white\"}},\"type\":\"table\"}],\"barpolar\":[{\"marker\":{\"line\":{\"color\":\"#E5ECF6\",\"width\":0.5},\"pattern\":{\"fillmode\":\"overlay\",\"size\":10,\"solidity\":0.2}},\"type\":\"barpolar\"}],\"pie\":[{\"automargin\":true,\"type\":\"pie\"}]},\"layout\":{\"autotypenumbers\":\"strict\",\"colorway\":[\"#636efa\",\"#EF553B\",\"#00cc96\",\"#ab63fa\",\"#FFA15A\",\"#19d3f3\",\"#FF6692\",\"#B6E880\",\"#FF97FF\",\"#FECB52\"],\"font\":{\"color\":\"#2a3f5f\"},\"hovermode\":\"closest\",\"hoverlabel\":{\"align\":\"left\"},\"paper_bgcolor\":\"white\",\"plot_bgcolor\":\"#E5ECF6\",\"polar\":{\"bgcolor\":\"#E5ECF6\",\"angularaxis\":{\"gridcolor\":\"white\",\"linecolor\":\"white\",\"ticks\":\"\"},\"radialaxis\":{\"gridcolor\":\"white\",\"linecolor\":\"white\",\"ticks\":\"\"}},\"ternary\":{\"bgcolor\":\"#E5ECF6\",\"aaxis\":{\"gridcolor\":\"white\",\"linecolor\":\"white\",\"ticks\":\"\"},\"baxis\":{\"gridcolor\":\"white\",\"linecolor\":\"white\",\"ticks\":\"\"},\"caxis\":{\"gridcolor\":\"white\",\"linecolor\":\"white\",\"ticks\":\"\"}},\"coloraxis\":{\"colorbar\":{\"outlinewidth\":0,\"ticks\":\"\"}},\"colorscale\":{\"sequential\":[[0.0,\"#0d0887\"],[0.1111111111111111,\"#46039f\"],[0.2222222222222222,\"#7201a8\"],[0.3333333333333333,\"#9c179e\"],[0.4444444444444444,\"#bd3786\"],[0.5555555555555556,\"#d8576b\"],[0.6666666666666666,\"#ed7953\"],[0.7777777777777778,\"#fb9f3a\"],[0.8888888888888888,\"#fdca26\"],[1.0,\"#f0f921\"]],\"sequentialminus\":[[0.0,\"#0d0887\"],[0.1111111111111111,\"#46039f\"],[0.2222222222222222,\"#7201a8\"],[0.3333333333333333,\"#9c179e\"],[0.4444444444444444,\"#bd3786\"],[0.5555555555555556,\"#d8576b\"],[0.6666666666666666,\"#ed7953\"],[0.7777777777777778,\"#fb9f3a\"],[0.8888888888888888,\"#fdca26\"],[1.0,\"#f0f921\"]],\"diverging\":[[0,\"#8e0152\"],[0.1,\"#c51b7d\"],[0.2,\"#de77ae\"],[0.3,\"#f1b6da\"],[0.4,\"#fde0ef\"],[0.5,\"#f7f7f7\"],[0.6,\"#e6f5d0\"],[0.7,\"#b8e186\"],[0.8,\"#7fbc41\"],[0.9,\"#4d9221\"],[1,\"#276419\"]]},\"xaxis\":{\"gridcolor\":\"white\",\"linecolor\":\"white\",\"ticks\":\"\",\"title\":{\"standoff\":15},\"zerolinecolor\":\"white\",\"automargin\":true,\"zerolinewidth\":2},\"yaxis\":{\"gridcolor\":\"white\",\"linecolor\":\"white\",\"ticks\":\"\",\"title\":{\"standoff\":15},\"zerolinecolor\":\"white\",\"automargin\":true,\"zerolinewidth\":2},\"scene\":{\"xaxis\":{\"backgroundcolor\":\"#E5ECF6\",\"gridcolor\":\"white\",\"linecolor\":\"white\",\"showbackground\":true,\"ticks\":\"\",\"zerolinecolor\":\"white\",\"gridwidth\":2},\"yaxis\":{\"backgroundcolor\":\"#E5ECF6\",\"gridcolor\":\"white\",\"linecolor\":\"white\",\"showbackground\":true,\"ticks\":\"\",\"zerolinecolor\":\"white\",\"gridwidth\":2},\"zaxis\":{\"backgroundcolor\":\"#E5ECF6\",\"gridcolor\":\"white\",\"linecolor\":\"white\",\"showbackground\":true,\"ticks\":\"\",\"zerolinecolor\":\"white\",\"gridwidth\":2}},\"shapedefaults\":{\"line\":{\"color\":\"#2a3f5f\"}},\"annotationdefaults\":{\"arrowcolor\":\"#2a3f5f\",\"arrowhead\":0,\"arrowwidth\":1},\"geo\":{\"bgcolor\":\"white\",\"landcolor\":\"#E5ECF6\",\"subunitcolor\":\"white\",\"showland\":true,\"showlakes\":true,\"lakecolor\":\"white\"},\"title\":{\"x\":0.05},\"mapbox\":{\"style\":\"light\"}}},\"xaxis\":{\"anchor\":\"y\",\"domain\":[0.0,1.0],\"title\":{\"text\":\"Game Title\"}},\"yaxis\":{\"anchor\":\"x\",\"domain\":[0.0,1.0],\"title\":{\"text\":\"Rating out of 10\"},\"range\":[8.5,10]},\"legend\":{\"title\":{\"text\":\"genre\"},\"tracegroupgap\":0},\"title\":{\"text\":\"Top Rated Single Player Games\"},\"barmode\":\"relative\"},                        {\"responsive\": true}                    ).then(function(){\n",
       "                            \n",
       "var gd = document.getElementById('9c534138-ce06-43a5-8973-a5cdb9acd88d');\n",
       "var x = new MutationObserver(function (mutations, observer) {{\n",
       "        var display = window.getComputedStyle(gd).display;\n",
       "        if (!display || display === 'none') {{\n",
       "            console.log([gd, 'removed!']);\n",
       "            Plotly.purge(gd);\n",
       "            observer.disconnect();\n",
       "        }}\n",
       "}});\n",
       "\n",
       "// Listen for the removal of the full notebook cells\n",
       "var notebookContainer = gd.closest('#notebook-container');\n",
       "if (notebookContainer) {{\n",
       "    x.observe(notebookContainer, {childList: true});\n",
       "}}\n",
       "\n",
       "// Listen for the clearing of the current output cell\n",
       "var outputEl = gd.closest('.output');\n",
       "if (outputEl) {{\n",
       "    x.observe(outputEl, {childList: true});\n",
       "}}\n",
       "\n",
       "                        })                };                });            </script>        </div>"
      ]
     },
     "metadata": {},
     "output_type": "display_data"
    }
   ],
   "source": [
    "import plotly.express as px\n",
    "\n",
    "fig = px.bar(df_top10_single_player, x='title', y='rating', color='genre_reduced',\n",
    "             labels={'title': 'Game Title', 'rating': 'Rating out of 10', 'genre_reduced':'genre'},\n",
    "             title='Top Rated Single Player Games')\n",
    "fig.update_layout(yaxis_range = [8.5,10])\n",
    "\n",
    "fig.show()"
   ]
  },
  {
   "cell_type": "code",
   "execution_count": 43,
   "id": "9de04915",
   "metadata": {},
   "outputs": [],
   "source": [
    "# collect 10 top rated two-player and multiplayer(>2) games\n",
    "\n",
    "df_top10_two_player = df_reviewed_sorted[df_reviewed_sorted['num_players_offline']=='2'].head(10)\n",
    "df_top10_multi_player = df_reviewed_sorted[(df_reviewed_sorted['num_players_offline']!='1')& \n",
    "                                           (df_reviewed_sorted['num_players_offline']!='2')].head(10)"
   ]
  },
  {
   "cell_type": "code",
   "execution_count": 46,
   "id": "0c059f62",
   "metadata": {},
   "outputs": [
    {
     "data": {
      "application/vnd.plotly.v1+json": {
       "config": {
        "plotlyServerURL": "https://plot.ly"
       },
       "data": [
        {
         "alignmentgroup": "True",
         "hovertemplate": "genre=Platformer<br>Game Title=%{x}<br>Rating out of 10=%{y}<extra></extra>",
         "legendgroup": "Platformer",
         "marker": {
          "color": "#636efa",
          "pattern": {
           "shape": ""
          }
         },
         "name": "Platformer",
         "offsetgroup": "Platformer",
         "orientation": "v",
         "showlegend": true,
         "textposition": "auto",
         "type": "bar",
         "x": [
          "Super Mario Odyssey",
          "Sonic Mania Plus",
          "Donkey Kong Country: Tropical Freeze",
          "Super Mario 3D All-Stars"
         ],
         "xaxis": "x",
         "y": [
          9.2,
          8.9,
          8.7,
          8.6
         ],
         "yaxis": "y"
        },
        {
         "alignmentgroup": "True",
         "hovertemplate": "genre=Action<br>Game Title=%{x}<br>Rating out of 10=%{y}<extra></extra>",
         "legendgroup": "Action",
         "marker": {
          "color": "#EF553B",
          "pattern": {
           "shape": ""
          }
         },
         "name": "Action",
         "offsetgroup": "Action",
         "orientation": "v",
         "showlegend": true,
         "textposition": "auto",
         "type": "bar",
         "x": [
          "Bayonetta 2"
         ],
         "xaxis": "x",
         "y": [
          8.7
         ],
         "yaxis": "y"
        },
        {
         "alignmentgroup": "True",
         "hovertemplate": "genre=RPG<br>Game Title=%{x}<br>Rating out of 10=%{y}<extra></extra>",
         "legendgroup": "RPG",
         "marker": {
          "color": "#00cc96",
          "pattern": {
           "shape": ""
          }
         },
         "name": "RPG",
         "offsetgroup": "RPG",
         "orientation": "v",
         "showlegend": true,
         "textposition": "auto",
         "type": "bar",
         "x": [
          "Pokémon Legends: Arceus",
          "Mega Man Zero/ZX Legacy Collection"
         ],
         "xaxis": "x",
         "y": [
          8.7,
          8.2
         ],
         "yaxis": "y"
        },
        {
         "alignmentgroup": "True",
         "hovertemplate": "genre=Adventure<br>Game Title=%{x}<br>Rating out of 10=%{y}<extra></extra>",
         "legendgroup": "Adventure",
         "marker": {
          "color": "#ab63fa",
          "pattern": {
           "shape": ""
          }
         },
         "name": "Adventure",
         "offsetgroup": "Adventure",
         "orientation": "v",
         "showlegend": true,
         "textposition": "auto",
         "type": "bar",
         "x": [
          "Pikmin 3 Deluxe",
          "Astral Chain",
          "Hyrule Warriors: Age of Calamity"
         ],
         "xaxis": "x",
         "y": [
          8.6,
          8.6,
          8.4
         ],
         "yaxis": "y"
        }
       ],
       "layout": {
        "barmode": "relative",
        "legend": {
         "title": {
          "text": "genre"
         },
         "tracegroupgap": 0
        },
        "template": {
         "data": {
          "bar": [
           {
            "error_x": {
             "color": "#2a3f5f"
            },
            "error_y": {
             "color": "#2a3f5f"
            },
            "marker": {
             "line": {
              "color": "#E5ECF6",
              "width": 0.5
             },
             "pattern": {
              "fillmode": "overlay",
              "size": 10,
              "solidity": 0.2
             }
            },
            "type": "bar"
           }
          ],
          "barpolar": [
           {
            "marker": {
             "line": {
              "color": "#E5ECF6",
              "width": 0.5
             },
             "pattern": {
              "fillmode": "overlay",
              "size": 10,
              "solidity": 0.2
             }
            },
            "type": "barpolar"
           }
          ],
          "carpet": [
           {
            "aaxis": {
             "endlinecolor": "#2a3f5f",
             "gridcolor": "white",
             "linecolor": "white",
             "minorgridcolor": "white",
             "startlinecolor": "#2a3f5f"
            },
            "baxis": {
             "endlinecolor": "#2a3f5f",
             "gridcolor": "white",
             "linecolor": "white",
             "minorgridcolor": "white",
             "startlinecolor": "#2a3f5f"
            },
            "type": "carpet"
           }
          ],
          "choropleth": [
           {
            "colorbar": {
             "outlinewidth": 0,
             "ticks": ""
            },
            "type": "choropleth"
           }
          ],
          "contour": [
           {
            "colorbar": {
             "outlinewidth": 0,
             "ticks": ""
            },
            "colorscale": [
             [
              0,
              "#0d0887"
             ],
             [
              0.1111111111111111,
              "#46039f"
             ],
             [
              0.2222222222222222,
              "#7201a8"
             ],
             [
              0.3333333333333333,
              "#9c179e"
             ],
             [
              0.4444444444444444,
              "#bd3786"
             ],
             [
              0.5555555555555556,
              "#d8576b"
             ],
             [
              0.6666666666666666,
              "#ed7953"
             ],
             [
              0.7777777777777778,
              "#fb9f3a"
             ],
             [
              0.8888888888888888,
              "#fdca26"
             ],
             [
              1,
              "#f0f921"
             ]
            ],
            "type": "contour"
           }
          ],
          "contourcarpet": [
           {
            "colorbar": {
             "outlinewidth": 0,
             "ticks": ""
            },
            "type": "contourcarpet"
           }
          ],
          "heatmap": [
           {
            "colorbar": {
             "outlinewidth": 0,
             "ticks": ""
            },
            "colorscale": [
             [
              0,
              "#0d0887"
             ],
             [
              0.1111111111111111,
              "#46039f"
             ],
             [
              0.2222222222222222,
              "#7201a8"
             ],
             [
              0.3333333333333333,
              "#9c179e"
             ],
             [
              0.4444444444444444,
              "#bd3786"
             ],
             [
              0.5555555555555556,
              "#d8576b"
             ],
             [
              0.6666666666666666,
              "#ed7953"
             ],
             [
              0.7777777777777778,
              "#fb9f3a"
             ],
             [
              0.8888888888888888,
              "#fdca26"
             ],
             [
              1,
              "#f0f921"
             ]
            ],
            "type": "heatmap"
           }
          ],
          "heatmapgl": [
           {
            "colorbar": {
             "outlinewidth": 0,
             "ticks": ""
            },
            "colorscale": [
             [
              0,
              "#0d0887"
             ],
             [
              0.1111111111111111,
              "#46039f"
             ],
             [
              0.2222222222222222,
              "#7201a8"
             ],
             [
              0.3333333333333333,
              "#9c179e"
             ],
             [
              0.4444444444444444,
              "#bd3786"
             ],
             [
              0.5555555555555556,
              "#d8576b"
             ],
             [
              0.6666666666666666,
              "#ed7953"
             ],
             [
              0.7777777777777778,
              "#fb9f3a"
             ],
             [
              0.8888888888888888,
              "#fdca26"
             ],
             [
              1,
              "#f0f921"
             ]
            ],
            "type": "heatmapgl"
           }
          ],
          "histogram": [
           {
            "marker": {
             "pattern": {
              "fillmode": "overlay",
              "size": 10,
              "solidity": 0.2
             }
            },
            "type": "histogram"
           }
          ],
          "histogram2d": [
           {
            "colorbar": {
             "outlinewidth": 0,
             "ticks": ""
            },
            "colorscale": [
             [
              0,
              "#0d0887"
             ],
             [
              0.1111111111111111,
              "#46039f"
             ],
             [
              0.2222222222222222,
              "#7201a8"
             ],
             [
              0.3333333333333333,
              "#9c179e"
             ],
             [
              0.4444444444444444,
              "#bd3786"
             ],
             [
              0.5555555555555556,
              "#d8576b"
             ],
             [
              0.6666666666666666,
              "#ed7953"
             ],
             [
              0.7777777777777778,
              "#fb9f3a"
             ],
             [
              0.8888888888888888,
              "#fdca26"
             ],
             [
              1,
              "#f0f921"
             ]
            ],
            "type": "histogram2d"
           }
          ],
          "histogram2dcontour": [
           {
            "colorbar": {
             "outlinewidth": 0,
             "ticks": ""
            },
            "colorscale": [
             [
              0,
              "#0d0887"
             ],
             [
              0.1111111111111111,
              "#46039f"
             ],
             [
              0.2222222222222222,
              "#7201a8"
             ],
             [
              0.3333333333333333,
              "#9c179e"
             ],
             [
              0.4444444444444444,
              "#bd3786"
             ],
             [
              0.5555555555555556,
              "#d8576b"
             ],
             [
              0.6666666666666666,
              "#ed7953"
             ],
             [
              0.7777777777777778,
              "#fb9f3a"
             ],
             [
              0.8888888888888888,
              "#fdca26"
             ],
             [
              1,
              "#f0f921"
             ]
            ],
            "type": "histogram2dcontour"
           }
          ],
          "mesh3d": [
           {
            "colorbar": {
             "outlinewidth": 0,
             "ticks": ""
            },
            "type": "mesh3d"
           }
          ],
          "parcoords": [
           {
            "line": {
             "colorbar": {
              "outlinewidth": 0,
              "ticks": ""
             }
            },
            "type": "parcoords"
           }
          ],
          "pie": [
           {
            "automargin": true,
            "type": "pie"
           }
          ],
          "scatter": [
           {
            "fillpattern": {
             "fillmode": "overlay",
             "size": 10,
             "solidity": 0.2
            },
            "type": "scatter"
           }
          ],
          "scatter3d": [
           {
            "line": {
             "colorbar": {
              "outlinewidth": 0,
              "ticks": ""
             }
            },
            "marker": {
             "colorbar": {
              "outlinewidth": 0,
              "ticks": ""
             }
            },
            "type": "scatter3d"
           }
          ],
          "scattercarpet": [
           {
            "marker": {
             "colorbar": {
              "outlinewidth": 0,
              "ticks": ""
             }
            },
            "type": "scattercarpet"
           }
          ],
          "scattergeo": [
           {
            "marker": {
             "colorbar": {
              "outlinewidth": 0,
              "ticks": ""
             }
            },
            "type": "scattergeo"
           }
          ],
          "scattergl": [
           {
            "marker": {
             "colorbar": {
              "outlinewidth": 0,
              "ticks": ""
             }
            },
            "type": "scattergl"
           }
          ],
          "scattermapbox": [
           {
            "marker": {
             "colorbar": {
              "outlinewidth": 0,
              "ticks": ""
             }
            },
            "type": "scattermapbox"
           }
          ],
          "scatterpolar": [
           {
            "marker": {
             "colorbar": {
              "outlinewidth": 0,
              "ticks": ""
             }
            },
            "type": "scatterpolar"
           }
          ],
          "scatterpolargl": [
           {
            "marker": {
             "colorbar": {
              "outlinewidth": 0,
              "ticks": ""
             }
            },
            "type": "scatterpolargl"
           }
          ],
          "scatterternary": [
           {
            "marker": {
             "colorbar": {
              "outlinewidth": 0,
              "ticks": ""
             }
            },
            "type": "scatterternary"
           }
          ],
          "surface": [
           {
            "colorbar": {
             "outlinewidth": 0,
             "ticks": ""
            },
            "colorscale": [
             [
              0,
              "#0d0887"
             ],
             [
              0.1111111111111111,
              "#46039f"
             ],
             [
              0.2222222222222222,
              "#7201a8"
             ],
             [
              0.3333333333333333,
              "#9c179e"
             ],
             [
              0.4444444444444444,
              "#bd3786"
             ],
             [
              0.5555555555555556,
              "#d8576b"
             ],
             [
              0.6666666666666666,
              "#ed7953"
             ],
             [
              0.7777777777777778,
              "#fb9f3a"
             ],
             [
              0.8888888888888888,
              "#fdca26"
             ],
             [
              1,
              "#f0f921"
             ]
            ],
            "type": "surface"
           }
          ],
          "table": [
           {
            "cells": {
             "fill": {
              "color": "#EBF0F8"
             },
             "line": {
              "color": "white"
             }
            },
            "header": {
             "fill": {
              "color": "#C8D4E3"
             },
             "line": {
              "color": "white"
             }
            },
            "type": "table"
           }
          ]
         },
         "layout": {
          "annotationdefaults": {
           "arrowcolor": "#2a3f5f",
           "arrowhead": 0,
           "arrowwidth": 1
          },
          "autotypenumbers": "strict",
          "coloraxis": {
           "colorbar": {
            "outlinewidth": 0,
            "ticks": ""
           }
          },
          "colorscale": {
           "diverging": [
            [
             0,
             "#8e0152"
            ],
            [
             0.1,
             "#c51b7d"
            ],
            [
             0.2,
             "#de77ae"
            ],
            [
             0.3,
             "#f1b6da"
            ],
            [
             0.4,
             "#fde0ef"
            ],
            [
             0.5,
             "#f7f7f7"
            ],
            [
             0.6,
             "#e6f5d0"
            ],
            [
             0.7,
             "#b8e186"
            ],
            [
             0.8,
             "#7fbc41"
            ],
            [
             0.9,
             "#4d9221"
            ],
            [
             1,
             "#276419"
            ]
           ],
           "sequential": [
            [
             0,
             "#0d0887"
            ],
            [
             0.1111111111111111,
             "#46039f"
            ],
            [
             0.2222222222222222,
             "#7201a8"
            ],
            [
             0.3333333333333333,
             "#9c179e"
            ],
            [
             0.4444444444444444,
             "#bd3786"
            ],
            [
             0.5555555555555556,
             "#d8576b"
            ],
            [
             0.6666666666666666,
             "#ed7953"
            ],
            [
             0.7777777777777778,
             "#fb9f3a"
            ],
            [
             0.8888888888888888,
             "#fdca26"
            ],
            [
             1,
             "#f0f921"
            ]
           ],
           "sequentialminus": [
            [
             0,
             "#0d0887"
            ],
            [
             0.1111111111111111,
             "#46039f"
            ],
            [
             0.2222222222222222,
             "#7201a8"
            ],
            [
             0.3333333333333333,
             "#9c179e"
            ],
            [
             0.4444444444444444,
             "#bd3786"
            ],
            [
             0.5555555555555556,
             "#d8576b"
            ],
            [
             0.6666666666666666,
             "#ed7953"
            ],
            [
             0.7777777777777778,
             "#fb9f3a"
            ],
            [
             0.8888888888888888,
             "#fdca26"
            ],
            [
             1,
             "#f0f921"
            ]
           ]
          },
          "colorway": [
           "#636efa",
           "#EF553B",
           "#00cc96",
           "#ab63fa",
           "#FFA15A",
           "#19d3f3",
           "#FF6692",
           "#B6E880",
           "#FF97FF",
           "#FECB52"
          ],
          "font": {
           "color": "#2a3f5f"
          },
          "geo": {
           "bgcolor": "white",
           "lakecolor": "white",
           "landcolor": "#E5ECF6",
           "showlakes": true,
           "showland": true,
           "subunitcolor": "white"
          },
          "hoverlabel": {
           "align": "left"
          },
          "hovermode": "closest",
          "mapbox": {
           "style": "light"
          },
          "paper_bgcolor": "white",
          "plot_bgcolor": "#E5ECF6",
          "polar": {
           "angularaxis": {
            "gridcolor": "white",
            "linecolor": "white",
            "ticks": ""
           },
           "bgcolor": "#E5ECF6",
           "radialaxis": {
            "gridcolor": "white",
            "linecolor": "white",
            "ticks": ""
           }
          },
          "scene": {
           "xaxis": {
            "backgroundcolor": "#E5ECF6",
            "gridcolor": "white",
            "gridwidth": 2,
            "linecolor": "white",
            "showbackground": true,
            "ticks": "",
            "zerolinecolor": "white"
           },
           "yaxis": {
            "backgroundcolor": "#E5ECF6",
            "gridcolor": "white",
            "gridwidth": 2,
            "linecolor": "white",
            "showbackground": true,
            "ticks": "",
            "zerolinecolor": "white"
           },
           "zaxis": {
            "backgroundcolor": "#E5ECF6",
            "gridcolor": "white",
            "gridwidth": 2,
            "linecolor": "white",
            "showbackground": true,
            "ticks": "",
            "zerolinecolor": "white"
           }
          },
          "shapedefaults": {
           "line": {
            "color": "#2a3f5f"
           }
          },
          "ternary": {
           "aaxis": {
            "gridcolor": "white",
            "linecolor": "white",
            "ticks": ""
           },
           "baxis": {
            "gridcolor": "white",
            "linecolor": "white",
            "ticks": ""
           },
           "bgcolor": "#E5ECF6",
           "caxis": {
            "gridcolor": "white",
            "linecolor": "white",
            "ticks": ""
           }
          },
          "title": {
           "x": 0.05
          },
          "xaxis": {
           "automargin": true,
           "gridcolor": "white",
           "linecolor": "white",
           "ticks": "",
           "title": {
            "standoff": 15
           },
           "zerolinecolor": "white",
           "zerolinewidth": 2
          },
          "yaxis": {
           "automargin": true,
           "gridcolor": "white",
           "linecolor": "white",
           "ticks": "",
           "title": {
            "standoff": 15
           },
           "zerolinecolor": "white",
           "zerolinewidth": 2
          }
         }
        },
        "title": {
         "text": "Top Rated Two-Player Games"
        },
        "xaxis": {
         "anchor": "y",
         "domain": [
          0,
          1
         ],
         "title": {
          "text": "Game Title"
         }
        },
        "yaxis": {
         "anchor": "x",
         "domain": [
          0,
          1
         ],
         "range": [
          8,
          10
         ],
         "title": {
          "text": "Rating out of 10"
         }
        }
       }
      },
      "text/html": [
       "<div>                            <div id=\"533025de-12a6-42d5-8d34-70c3498111c2\" class=\"plotly-graph-div\" style=\"height:525px; width:100%;\"></div>            <script type=\"text/javascript\">                require([\"plotly\"], function(Plotly) {                    window.PLOTLYENV=window.PLOTLYENV || {};                                    if (document.getElementById(\"533025de-12a6-42d5-8d34-70c3498111c2\")) {                    Plotly.newPlot(                        \"533025de-12a6-42d5-8d34-70c3498111c2\",                        [{\"alignmentgroup\":\"True\",\"hovertemplate\":\"genre=Platformer<br>Game Title=%{x}<br>Rating out of 10=%{y}<extra></extra>\",\"legendgroup\":\"Platformer\",\"marker\":{\"color\":\"#636efa\",\"pattern\":{\"shape\":\"\"}},\"name\":\"Platformer\",\"offsetgroup\":\"Platformer\",\"orientation\":\"v\",\"showlegend\":true,\"textposition\":\"auto\",\"x\":[\"Super Mario Odyssey\",\"Sonic Mania Plus\",\"Donkey Kong Country: Tropical Freeze\",\"Super Mario 3D All-Stars\"],\"xaxis\":\"x\",\"y\":[9.2,8.9,8.7,8.6],\"yaxis\":\"y\",\"type\":\"bar\"},{\"alignmentgroup\":\"True\",\"hovertemplate\":\"genre=Action<br>Game Title=%{x}<br>Rating out of 10=%{y}<extra></extra>\",\"legendgroup\":\"Action\",\"marker\":{\"color\":\"#EF553B\",\"pattern\":{\"shape\":\"\"}},\"name\":\"Action\",\"offsetgroup\":\"Action\",\"orientation\":\"v\",\"showlegend\":true,\"textposition\":\"auto\",\"x\":[\"Bayonetta 2\"],\"xaxis\":\"x\",\"y\":[8.7],\"yaxis\":\"y\",\"type\":\"bar\"},{\"alignmentgroup\":\"True\",\"hovertemplate\":\"genre=RPG<br>Game Title=%{x}<br>Rating out of 10=%{y}<extra></extra>\",\"legendgroup\":\"RPG\",\"marker\":{\"color\":\"#00cc96\",\"pattern\":{\"shape\":\"\"}},\"name\":\"RPG\",\"offsetgroup\":\"RPG\",\"orientation\":\"v\",\"showlegend\":true,\"textposition\":\"auto\",\"x\":[\"Pok\\u00e9mon Legends: Arceus\",\"Mega Man Zero/ZX Legacy Collection\"],\"xaxis\":\"x\",\"y\":[8.7,8.2],\"yaxis\":\"y\",\"type\":\"bar\"},{\"alignmentgroup\":\"True\",\"hovertemplate\":\"genre=Adventure<br>Game Title=%{x}<br>Rating out of 10=%{y}<extra></extra>\",\"legendgroup\":\"Adventure\",\"marker\":{\"color\":\"#ab63fa\",\"pattern\":{\"shape\":\"\"}},\"name\":\"Adventure\",\"offsetgroup\":\"Adventure\",\"orientation\":\"v\",\"showlegend\":true,\"textposition\":\"auto\",\"x\":[\"Pikmin 3 Deluxe\",\"Astral Chain\",\"Hyrule Warriors: Age of Calamity\"],\"xaxis\":\"x\",\"y\":[8.6,8.6,8.4],\"yaxis\":\"y\",\"type\":\"bar\"}],                        {\"template\":{\"data\":{\"histogram2dcontour\":[{\"type\":\"histogram2dcontour\",\"colorbar\":{\"outlinewidth\":0,\"ticks\":\"\"},\"colorscale\":[[0.0,\"#0d0887\"],[0.1111111111111111,\"#46039f\"],[0.2222222222222222,\"#7201a8\"],[0.3333333333333333,\"#9c179e\"],[0.4444444444444444,\"#bd3786\"],[0.5555555555555556,\"#d8576b\"],[0.6666666666666666,\"#ed7953\"],[0.7777777777777778,\"#fb9f3a\"],[0.8888888888888888,\"#fdca26\"],[1.0,\"#f0f921\"]]}],\"choropleth\":[{\"type\":\"choropleth\",\"colorbar\":{\"outlinewidth\":0,\"ticks\":\"\"}}],\"histogram2d\":[{\"type\":\"histogram2d\",\"colorbar\":{\"outlinewidth\":0,\"ticks\":\"\"},\"colorscale\":[[0.0,\"#0d0887\"],[0.1111111111111111,\"#46039f\"],[0.2222222222222222,\"#7201a8\"],[0.3333333333333333,\"#9c179e\"],[0.4444444444444444,\"#bd3786\"],[0.5555555555555556,\"#d8576b\"],[0.6666666666666666,\"#ed7953\"],[0.7777777777777778,\"#fb9f3a\"],[0.8888888888888888,\"#fdca26\"],[1.0,\"#f0f921\"]]}],\"heatmap\":[{\"type\":\"heatmap\",\"colorbar\":{\"outlinewidth\":0,\"ticks\":\"\"},\"colorscale\":[[0.0,\"#0d0887\"],[0.1111111111111111,\"#46039f\"],[0.2222222222222222,\"#7201a8\"],[0.3333333333333333,\"#9c179e\"],[0.4444444444444444,\"#bd3786\"],[0.5555555555555556,\"#d8576b\"],[0.6666666666666666,\"#ed7953\"],[0.7777777777777778,\"#fb9f3a\"],[0.8888888888888888,\"#fdca26\"],[1.0,\"#f0f921\"]]}],\"heatmapgl\":[{\"type\":\"heatmapgl\",\"colorbar\":{\"outlinewidth\":0,\"ticks\":\"\"},\"colorscale\":[[0.0,\"#0d0887\"],[0.1111111111111111,\"#46039f\"],[0.2222222222222222,\"#7201a8\"],[0.3333333333333333,\"#9c179e\"],[0.4444444444444444,\"#bd3786\"],[0.5555555555555556,\"#d8576b\"],[0.6666666666666666,\"#ed7953\"],[0.7777777777777778,\"#fb9f3a\"],[0.8888888888888888,\"#fdca26\"],[1.0,\"#f0f921\"]]}],\"contourcarpet\":[{\"type\":\"contourcarpet\",\"colorbar\":{\"outlinewidth\":0,\"ticks\":\"\"}}],\"contour\":[{\"type\":\"contour\",\"colorbar\":{\"outlinewidth\":0,\"ticks\":\"\"},\"colorscale\":[[0.0,\"#0d0887\"],[0.1111111111111111,\"#46039f\"],[0.2222222222222222,\"#7201a8\"],[0.3333333333333333,\"#9c179e\"],[0.4444444444444444,\"#bd3786\"],[0.5555555555555556,\"#d8576b\"],[0.6666666666666666,\"#ed7953\"],[0.7777777777777778,\"#fb9f3a\"],[0.8888888888888888,\"#fdca26\"],[1.0,\"#f0f921\"]]}],\"surface\":[{\"type\":\"surface\",\"colorbar\":{\"outlinewidth\":0,\"ticks\":\"\"},\"colorscale\":[[0.0,\"#0d0887\"],[0.1111111111111111,\"#46039f\"],[0.2222222222222222,\"#7201a8\"],[0.3333333333333333,\"#9c179e\"],[0.4444444444444444,\"#bd3786\"],[0.5555555555555556,\"#d8576b\"],[0.6666666666666666,\"#ed7953\"],[0.7777777777777778,\"#fb9f3a\"],[0.8888888888888888,\"#fdca26\"],[1.0,\"#f0f921\"]]}],\"mesh3d\":[{\"type\":\"mesh3d\",\"colorbar\":{\"outlinewidth\":0,\"ticks\":\"\"}}],\"scatter\":[{\"fillpattern\":{\"fillmode\":\"overlay\",\"size\":10,\"solidity\":0.2},\"type\":\"scatter\"}],\"parcoords\":[{\"type\":\"parcoords\",\"line\":{\"colorbar\":{\"outlinewidth\":0,\"ticks\":\"\"}}}],\"scatterpolargl\":[{\"type\":\"scatterpolargl\",\"marker\":{\"colorbar\":{\"outlinewidth\":0,\"ticks\":\"\"}}}],\"bar\":[{\"error_x\":{\"color\":\"#2a3f5f\"},\"error_y\":{\"color\":\"#2a3f5f\"},\"marker\":{\"line\":{\"color\":\"#E5ECF6\",\"width\":0.5},\"pattern\":{\"fillmode\":\"overlay\",\"size\":10,\"solidity\":0.2}},\"type\":\"bar\"}],\"scattergeo\":[{\"type\":\"scattergeo\",\"marker\":{\"colorbar\":{\"outlinewidth\":0,\"ticks\":\"\"}}}],\"scatterpolar\":[{\"type\":\"scatterpolar\",\"marker\":{\"colorbar\":{\"outlinewidth\":0,\"ticks\":\"\"}}}],\"histogram\":[{\"marker\":{\"pattern\":{\"fillmode\":\"overlay\",\"size\":10,\"solidity\":0.2}},\"type\":\"histogram\"}],\"scattergl\":[{\"type\":\"scattergl\",\"marker\":{\"colorbar\":{\"outlinewidth\":0,\"ticks\":\"\"}}}],\"scatter3d\":[{\"type\":\"scatter3d\",\"line\":{\"colorbar\":{\"outlinewidth\":0,\"ticks\":\"\"}},\"marker\":{\"colorbar\":{\"outlinewidth\":0,\"ticks\":\"\"}}}],\"scattermapbox\":[{\"type\":\"scattermapbox\",\"marker\":{\"colorbar\":{\"outlinewidth\":0,\"ticks\":\"\"}}}],\"scatterternary\":[{\"type\":\"scatterternary\",\"marker\":{\"colorbar\":{\"outlinewidth\":0,\"ticks\":\"\"}}}],\"scattercarpet\":[{\"type\":\"scattercarpet\",\"marker\":{\"colorbar\":{\"outlinewidth\":0,\"ticks\":\"\"}}}],\"carpet\":[{\"aaxis\":{\"endlinecolor\":\"#2a3f5f\",\"gridcolor\":\"white\",\"linecolor\":\"white\",\"minorgridcolor\":\"white\",\"startlinecolor\":\"#2a3f5f\"},\"baxis\":{\"endlinecolor\":\"#2a3f5f\",\"gridcolor\":\"white\",\"linecolor\":\"white\",\"minorgridcolor\":\"white\",\"startlinecolor\":\"#2a3f5f\"},\"type\":\"carpet\"}],\"table\":[{\"cells\":{\"fill\":{\"color\":\"#EBF0F8\"},\"line\":{\"color\":\"white\"}},\"header\":{\"fill\":{\"color\":\"#C8D4E3\"},\"line\":{\"color\":\"white\"}},\"type\":\"table\"}],\"barpolar\":[{\"marker\":{\"line\":{\"color\":\"#E5ECF6\",\"width\":0.5},\"pattern\":{\"fillmode\":\"overlay\",\"size\":10,\"solidity\":0.2}},\"type\":\"barpolar\"}],\"pie\":[{\"automargin\":true,\"type\":\"pie\"}]},\"layout\":{\"autotypenumbers\":\"strict\",\"colorway\":[\"#636efa\",\"#EF553B\",\"#00cc96\",\"#ab63fa\",\"#FFA15A\",\"#19d3f3\",\"#FF6692\",\"#B6E880\",\"#FF97FF\",\"#FECB52\"],\"font\":{\"color\":\"#2a3f5f\"},\"hovermode\":\"closest\",\"hoverlabel\":{\"align\":\"left\"},\"paper_bgcolor\":\"white\",\"plot_bgcolor\":\"#E5ECF6\",\"polar\":{\"bgcolor\":\"#E5ECF6\",\"angularaxis\":{\"gridcolor\":\"white\",\"linecolor\":\"white\",\"ticks\":\"\"},\"radialaxis\":{\"gridcolor\":\"white\",\"linecolor\":\"white\",\"ticks\":\"\"}},\"ternary\":{\"bgcolor\":\"#E5ECF6\",\"aaxis\":{\"gridcolor\":\"white\",\"linecolor\":\"white\",\"ticks\":\"\"},\"baxis\":{\"gridcolor\":\"white\",\"linecolor\":\"white\",\"ticks\":\"\"},\"caxis\":{\"gridcolor\":\"white\",\"linecolor\":\"white\",\"ticks\":\"\"}},\"coloraxis\":{\"colorbar\":{\"outlinewidth\":0,\"ticks\":\"\"}},\"colorscale\":{\"sequential\":[[0.0,\"#0d0887\"],[0.1111111111111111,\"#46039f\"],[0.2222222222222222,\"#7201a8\"],[0.3333333333333333,\"#9c179e\"],[0.4444444444444444,\"#bd3786\"],[0.5555555555555556,\"#d8576b\"],[0.6666666666666666,\"#ed7953\"],[0.7777777777777778,\"#fb9f3a\"],[0.8888888888888888,\"#fdca26\"],[1.0,\"#f0f921\"]],\"sequentialminus\":[[0.0,\"#0d0887\"],[0.1111111111111111,\"#46039f\"],[0.2222222222222222,\"#7201a8\"],[0.3333333333333333,\"#9c179e\"],[0.4444444444444444,\"#bd3786\"],[0.5555555555555556,\"#d8576b\"],[0.6666666666666666,\"#ed7953\"],[0.7777777777777778,\"#fb9f3a\"],[0.8888888888888888,\"#fdca26\"],[1.0,\"#f0f921\"]],\"diverging\":[[0,\"#8e0152\"],[0.1,\"#c51b7d\"],[0.2,\"#de77ae\"],[0.3,\"#f1b6da\"],[0.4,\"#fde0ef\"],[0.5,\"#f7f7f7\"],[0.6,\"#e6f5d0\"],[0.7,\"#b8e186\"],[0.8,\"#7fbc41\"],[0.9,\"#4d9221\"],[1,\"#276419\"]]},\"xaxis\":{\"gridcolor\":\"white\",\"linecolor\":\"white\",\"ticks\":\"\",\"title\":{\"standoff\":15},\"zerolinecolor\":\"white\",\"automargin\":true,\"zerolinewidth\":2},\"yaxis\":{\"gridcolor\":\"white\",\"linecolor\":\"white\",\"ticks\":\"\",\"title\":{\"standoff\":15},\"zerolinecolor\":\"white\",\"automargin\":true,\"zerolinewidth\":2},\"scene\":{\"xaxis\":{\"backgroundcolor\":\"#E5ECF6\",\"gridcolor\":\"white\",\"linecolor\":\"white\",\"showbackground\":true,\"ticks\":\"\",\"zerolinecolor\":\"white\",\"gridwidth\":2},\"yaxis\":{\"backgroundcolor\":\"#E5ECF6\",\"gridcolor\":\"white\",\"linecolor\":\"white\",\"showbackground\":true,\"ticks\":\"\",\"zerolinecolor\":\"white\",\"gridwidth\":2},\"zaxis\":{\"backgroundcolor\":\"#E5ECF6\",\"gridcolor\":\"white\",\"linecolor\":\"white\",\"showbackground\":true,\"ticks\":\"\",\"zerolinecolor\":\"white\",\"gridwidth\":2}},\"shapedefaults\":{\"line\":{\"color\":\"#2a3f5f\"}},\"annotationdefaults\":{\"arrowcolor\":\"#2a3f5f\",\"arrowhead\":0,\"arrowwidth\":1},\"geo\":{\"bgcolor\":\"white\",\"landcolor\":\"#E5ECF6\",\"subunitcolor\":\"white\",\"showland\":true,\"showlakes\":true,\"lakecolor\":\"white\"},\"title\":{\"x\":0.05},\"mapbox\":{\"style\":\"light\"}}},\"xaxis\":{\"anchor\":\"y\",\"domain\":[0.0,1.0],\"title\":{\"text\":\"Game Title\"}},\"yaxis\":{\"anchor\":\"x\",\"domain\":[0.0,1.0],\"title\":{\"text\":\"Rating out of 10\"},\"range\":[8,10]},\"legend\":{\"title\":{\"text\":\"genre\"},\"tracegroupgap\":0},\"title\":{\"text\":\"Top Rated Two-Player Games\"},\"barmode\":\"relative\"},                        {\"responsive\": true}                    ).then(function(){\n",
       "                            \n",
       "var gd = document.getElementById('533025de-12a6-42d5-8d34-70c3498111c2');\n",
       "var x = new MutationObserver(function (mutations, observer) {{\n",
       "        var display = window.getComputedStyle(gd).display;\n",
       "        if (!display || display === 'none') {{\n",
       "            console.log([gd, 'removed!']);\n",
       "            Plotly.purge(gd);\n",
       "            observer.disconnect();\n",
       "        }}\n",
       "}});\n",
       "\n",
       "// Listen for the removal of the full notebook cells\n",
       "var notebookContainer = gd.closest('#notebook-container');\n",
       "if (notebookContainer) {{\n",
       "    x.observe(notebookContainer, {childList: true});\n",
       "}}\n",
       "\n",
       "// Listen for the clearing of the current output cell\n",
       "var outputEl = gd.closest('.output');\n",
       "if (outputEl) {{\n",
       "    x.observe(outputEl, {childList: true});\n",
       "}}\n",
       "\n",
       "                        })                };                });            </script>        </div>"
      ]
     },
     "metadata": {},
     "output_type": "display_data"
    }
   ],
   "source": [
    "fig = px.bar(df_top10_two_player, x='title', y='rating', color='genre_reduced',\n",
    "             labels={'title': 'Game Title', 'rating': 'Rating out of 10', 'genre_reduced':'genre'},\n",
    "             title='Top Rated Two-Player Games')\n",
    "fig.update_layout(yaxis_range = [8,10])\n",
    "\n",
    "fig.show()"
   ]
  },
  {
   "cell_type": "code",
   "execution_count": 48,
   "id": "55764308",
   "metadata": {},
   "outputs": [
    {
     "data": {
      "application/vnd.plotly.v1+json": {
       "config": {
        "plotlyServerURL": "https://plot.ly"
       },
       "data": [
        {
         "alignmentgroup": "True",
         "hovertemplate": "genre=Action<br>Game Title=%{x}<br>Rating out of 10=%{y}<extra></extra>",
         "legendgroup": "Action",
         "marker": {
          "color": "#636efa",
          "pattern": {
           "shape": ""
          }
         },
         "name": "Action",
         "offsetgroup": "Action",
         "orientation": "v",
         "showlegend": true,
         "textposition": "auto",
         "type": "bar",
         "x": [
          "Super Smash Bros. Ultimate"
         ],
         "xaxis": "x",
         "y": [
          9.2
         ],
         "yaxis": "y"
        },
        {
         "alignmentgroup": "True",
         "hovertemplate": "genre=Platformer<br>Game Title=%{x}<br>Rating out of 10=%{y}<extra></extra>",
         "legendgroup": "Platformer",
         "marker": {
          "color": "#EF553B",
          "pattern": {
           "shape": ""
          }
         },
         "name": "Platformer",
         "offsetgroup": "Platformer",
         "orientation": "v",
         "showlegend": true,
         "textposition": "auto",
         "type": "bar",
         "x": [
          "Super Mario 3D World + Bowsers Fury",
          "Super Mario Maker 2",
          "Rayman Legends: Definitive Edition"
         ],
         "xaxis": "x",
         "y": [
          9.1,
          8.5,
          8.4
         ],
         "yaxis": "y"
        },
        {
         "alignmentgroup": "True",
         "hovertemplate": "genre=RPG<br>Game Title=%{x}<br>Rating out of 10=%{y}<extra></extra>",
         "legendgroup": "RPG",
         "marker": {
          "color": "#00cc96",
          "pattern": {
           "shape": ""
          }
         },
         "name": "RPG",
         "offsetgroup": "RPG",
         "orientation": "v",
         "showlegend": true,
         "textposition": "auto",
         "type": "bar",
         "x": [
          "Monster Hunter Rise",
          "Diablo III: Eternal Collection"
         ],
         "xaxis": "x",
         "y": [
          9,
          8.3
         ],
         "yaxis": "y"
        },
        {
         "alignmentgroup": "True",
         "hovertemplate": "genre=Sports<br>Game Title=%{x}<br>Rating out of 10=%{y}<extra></extra>",
         "legendgroup": "Sports",
         "marker": {
          "color": "#ab63fa",
          "pattern": {
           "shape": ""
          }
         },
         "name": "Sports",
         "offsetgroup": "Sports",
         "orientation": "v",
         "showlegend": true,
         "textposition": "auto",
         "type": "bar",
         "x": [
          "Mario Kart 8 Deluxe"
         ],
         "xaxis": "x",
         "y": [
          9
         ],
         "yaxis": "y"
        },
        {
         "alignmentgroup": "True",
         "hovertemplate": "genre=Adventure<br>Game Title=%{x}<br>Rating out of 10=%{y}<extra></extra>",
         "legendgroup": "Adventure",
         "marker": {
          "color": "#FFA15A",
          "pattern": {
           "shape": ""
          }
         },
         "name": "Adventure",
         "offsetgroup": "Adventure",
         "orientation": "v",
         "showlegend": true,
         "textposition": "auto",
         "type": "bar",
         "x": [
          "Luigis Mansion 3"
         ],
         "xaxis": "x",
         "y": [
          8.8
         ],
         "yaxis": "y"
        },
        {
         "alignmentgroup": "True",
         "hovertemplate": "genre=Shooter<br>Game Title=%{x}<br>Rating out of 10=%{y}<extra></extra>",
         "legendgroup": "Shooter",
         "marker": {
          "color": "#19d3f3",
          "pattern": {
           "shape": ""
          }
         },
         "name": "Shooter",
         "offsetgroup": "Shooter",
         "orientation": "v",
         "showlegend": true,
         "textposition": "auto",
         "type": "bar",
         "x": [
          "Splatoon 2"
         ],
         "xaxis": "x",
         "y": [
          8.7
         ],
         "yaxis": "y"
        },
        {
         "alignmentgroup": "True",
         "hovertemplate": "genre=Party<br>Game Title=%{x}<br>Rating out of 10=%{y}<extra></extra>",
         "legendgroup": "Party",
         "marker": {
          "color": "#FF6692",
          "pattern": {
           "shape": ""
          }
         },
         "name": "Party",
         "offsetgroup": "Party",
         "orientation": "v",
         "showlegend": true,
         "textposition": "auto",
         "type": "bar",
         "x": [
          "Mario Party Superstars"
         ],
         "xaxis": "x",
         "y": [
          8.5
         ],
         "yaxis": "y"
        }
       ],
       "layout": {
        "barmode": "relative",
        "legend": {
         "title": {
          "text": "genre"
         },
         "tracegroupgap": 0
        },
        "template": {
         "data": {
          "bar": [
           {
            "error_x": {
             "color": "#2a3f5f"
            },
            "error_y": {
             "color": "#2a3f5f"
            },
            "marker": {
             "line": {
              "color": "#E5ECF6",
              "width": 0.5
             },
             "pattern": {
              "fillmode": "overlay",
              "size": 10,
              "solidity": 0.2
             }
            },
            "type": "bar"
           }
          ],
          "barpolar": [
           {
            "marker": {
             "line": {
              "color": "#E5ECF6",
              "width": 0.5
             },
             "pattern": {
              "fillmode": "overlay",
              "size": 10,
              "solidity": 0.2
             }
            },
            "type": "barpolar"
           }
          ],
          "carpet": [
           {
            "aaxis": {
             "endlinecolor": "#2a3f5f",
             "gridcolor": "white",
             "linecolor": "white",
             "minorgridcolor": "white",
             "startlinecolor": "#2a3f5f"
            },
            "baxis": {
             "endlinecolor": "#2a3f5f",
             "gridcolor": "white",
             "linecolor": "white",
             "minorgridcolor": "white",
             "startlinecolor": "#2a3f5f"
            },
            "type": "carpet"
           }
          ],
          "choropleth": [
           {
            "colorbar": {
             "outlinewidth": 0,
             "ticks": ""
            },
            "type": "choropleth"
           }
          ],
          "contour": [
           {
            "colorbar": {
             "outlinewidth": 0,
             "ticks": ""
            },
            "colorscale": [
             [
              0,
              "#0d0887"
             ],
             [
              0.1111111111111111,
              "#46039f"
             ],
             [
              0.2222222222222222,
              "#7201a8"
             ],
             [
              0.3333333333333333,
              "#9c179e"
             ],
             [
              0.4444444444444444,
              "#bd3786"
             ],
             [
              0.5555555555555556,
              "#d8576b"
             ],
             [
              0.6666666666666666,
              "#ed7953"
             ],
             [
              0.7777777777777778,
              "#fb9f3a"
             ],
             [
              0.8888888888888888,
              "#fdca26"
             ],
             [
              1,
              "#f0f921"
             ]
            ],
            "type": "contour"
           }
          ],
          "contourcarpet": [
           {
            "colorbar": {
             "outlinewidth": 0,
             "ticks": ""
            },
            "type": "contourcarpet"
           }
          ],
          "heatmap": [
           {
            "colorbar": {
             "outlinewidth": 0,
             "ticks": ""
            },
            "colorscale": [
             [
              0,
              "#0d0887"
             ],
             [
              0.1111111111111111,
              "#46039f"
             ],
             [
              0.2222222222222222,
              "#7201a8"
             ],
             [
              0.3333333333333333,
              "#9c179e"
             ],
             [
              0.4444444444444444,
              "#bd3786"
             ],
             [
              0.5555555555555556,
              "#d8576b"
             ],
             [
              0.6666666666666666,
              "#ed7953"
             ],
             [
              0.7777777777777778,
              "#fb9f3a"
             ],
             [
              0.8888888888888888,
              "#fdca26"
             ],
             [
              1,
              "#f0f921"
             ]
            ],
            "type": "heatmap"
           }
          ],
          "heatmapgl": [
           {
            "colorbar": {
             "outlinewidth": 0,
             "ticks": ""
            },
            "colorscale": [
             [
              0,
              "#0d0887"
             ],
             [
              0.1111111111111111,
              "#46039f"
             ],
             [
              0.2222222222222222,
              "#7201a8"
             ],
             [
              0.3333333333333333,
              "#9c179e"
             ],
             [
              0.4444444444444444,
              "#bd3786"
             ],
             [
              0.5555555555555556,
              "#d8576b"
             ],
             [
              0.6666666666666666,
              "#ed7953"
             ],
             [
              0.7777777777777778,
              "#fb9f3a"
             ],
             [
              0.8888888888888888,
              "#fdca26"
             ],
             [
              1,
              "#f0f921"
             ]
            ],
            "type": "heatmapgl"
           }
          ],
          "histogram": [
           {
            "marker": {
             "pattern": {
              "fillmode": "overlay",
              "size": 10,
              "solidity": 0.2
             }
            },
            "type": "histogram"
           }
          ],
          "histogram2d": [
           {
            "colorbar": {
             "outlinewidth": 0,
             "ticks": ""
            },
            "colorscale": [
             [
              0,
              "#0d0887"
             ],
             [
              0.1111111111111111,
              "#46039f"
             ],
             [
              0.2222222222222222,
              "#7201a8"
             ],
             [
              0.3333333333333333,
              "#9c179e"
             ],
             [
              0.4444444444444444,
              "#bd3786"
             ],
             [
              0.5555555555555556,
              "#d8576b"
             ],
             [
              0.6666666666666666,
              "#ed7953"
             ],
             [
              0.7777777777777778,
              "#fb9f3a"
             ],
             [
              0.8888888888888888,
              "#fdca26"
             ],
             [
              1,
              "#f0f921"
             ]
            ],
            "type": "histogram2d"
           }
          ],
          "histogram2dcontour": [
           {
            "colorbar": {
             "outlinewidth": 0,
             "ticks": ""
            },
            "colorscale": [
             [
              0,
              "#0d0887"
             ],
             [
              0.1111111111111111,
              "#46039f"
             ],
             [
              0.2222222222222222,
              "#7201a8"
             ],
             [
              0.3333333333333333,
              "#9c179e"
             ],
             [
              0.4444444444444444,
              "#bd3786"
             ],
             [
              0.5555555555555556,
              "#d8576b"
             ],
             [
              0.6666666666666666,
              "#ed7953"
             ],
             [
              0.7777777777777778,
              "#fb9f3a"
             ],
             [
              0.8888888888888888,
              "#fdca26"
             ],
             [
              1,
              "#f0f921"
             ]
            ],
            "type": "histogram2dcontour"
           }
          ],
          "mesh3d": [
           {
            "colorbar": {
             "outlinewidth": 0,
             "ticks": ""
            },
            "type": "mesh3d"
           }
          ],
          "parcoords": [
           {
            "line": {
             "colorbar": {
              "outlinewidth": 0,
              "ticks": ""
             }
            },
            "type": "parcoords"
           }
          ],
          "pie": [
           {
            "automargin": true,
            "type": "pie"
           }
          ],
          "scatter": [
           {
            "fillpattern": {
             "fillmode": "overlay",
             "size": 10,
             "solidity": 0.2
            },
            "type": "scatter"
           }
          ],
          "scatter3d": [
           {
            "line": {
             "colorbar": {
              "outlinewidth": 0,
              "ticks": ""
             }
            },
            "marker": {
             "colorbar": {
              "outlinewidth": 0,
              "ticks": ""
             }
            },
            "type": "scatter3d"
           }
          ],
          "scattercarpet": [
           {
            "marker": {
             "colorbar": {
              "outlinewidth": 0,
              "ticks": ""
             }
            },
            "type": "scattercarpet"
           }
          ],
          "scattergeo": [
           {
            "marker": {
             "colorbar": {
              "outlinewidth": 0,
              "ticks": ""
             }
            },
            "type": "scattergeo"
           }
          ],
          "scattergl": [
           {
            "marker": {
             "colorbar": {
              "outlinewidth": 0,
              "ticks": ""
             }
            },
            "type": "scattergl"
           }
          ],
          "scattermapbox": [
           {
            "marker": {
             "colorbar": {
              "outlinewidth": 0,
              "ticks": ""
             }
            },
            "type": "scattermapbox"
           }
          ],
          "scatterpolar": [
           {
            "marker": {
             "colorbar": {
              "outlinewidth": 0,
              "ticks": ""
             }
            },
            "type": "scatterpolar"
           }
          ],
          "scatterpolargl": [
           {
            "marker": {
             "colorbar": {
              "outlinewidth": 0,
              "ticks": ""
             }
            },
            "type": "scatterpolargl"
           }
          ],
          "scatterternary": [
           {
            "marker": {
             "colorbar": {
              "outlinewidth": 0,
              "ticks": ""
             }
            },
            "type": "scatterternary"
           }
          ],
          "surface": [
           {
            "colorbar": {
             "outlinewidth": 0,
             "ticks": ""
            },
            "colorscale": [
             [
              0,
              "#0d0887"
             ],
             [
              0.1111111111111111,
              "#46039f"
             ],
             [
              0.2222222222222222,
              "#7201a8"
             ],
             [
              0.3333333333333333,
              "#9c179e"
             ],
             [
              0.4444444444444444,
              "#bd3786"
             ],
             [
              0.5555555555555556,
              "#d8576b"
             ],
             [
              0.6666666666666666,
              "#ed7953"
             ],
             [
              0.7777777777777778,
              "#fb9f3a"
             ],
             [
              0.8888888888888888,
              "#fdca26"
             ],
             [
              1,
              "#f0f921"
             ]
            ],
            "type": "surface"
           }
          ],
          "table": [
           {
            "cells": {
             "fill": {
              "color": "#EBF0F8"
             },
             "line": {
              "color": "white"
             }
            },
            "header": {
             "fill": {
              "color": "#C8D4E3"
             },
             "line": {
              "color": "white"
             }
            },
            "type": "table"
           }
          ]
         },
         "layout": {
          "annotationdefaults": {
           "arrowcolor": "#2a3f5f",
           "arrowhead": 0,
           "arrowwidth": 1
          },
          "autotypenumbers": "strict",
          "coloraxis": {
           "colorbar": {
            "outlinewidth": 0,
            "ticks": ""
           }
          },
          "colorscale": {
           "diverging": [
            [
             0,
             "#8e0152"
            ],
            [
             0.1,
             "#c51b7d"
            ],
            [
             0.2,
             "#de77ae"
            ],
            [
             0.3,
             "#f1b6da"
            ],
            [
             0.4,
             "#fde0ef"
            ],
            [
             0.5,
             "#f7f7f7"
            ],
            [
             0.6,
             "#e6f5d0"
            ],
            [
             0.7,
             "#b8e186"
            ],
            [
             0.8,
             "#7fbc41"
            ],
            [
             0.9,
             "#4d9221"
            ],
            [
             1,
             "#276419"
            ]
           ],
           "sequential": [
            [
             0,
             "#0d0887"
            ],
            [
             0.1111111111111111,
             "#46039f"
            ],
            [
             0.2222222222222222,
             "#7201a8"
            ],
            [
             0.3333333333333333,
             "#9c179e"
            ],
            [
             0.4444444444444444,
             "#bd3786"
            ],
            [
             0.5555555555555556,
             "#d8576b"
            ],
            [
             0.6666666666666666,
             "#ed7953"
            ],
            [
             0.7777777777777778,
             "#fb9f3a"
            ],
            [
             0.8888888888888888,
             "#fdca26"
            ],
            [
             1,
             "#f0f921"
            ]
           ],
           "sequentialminus": [
            [
             0,
             "#0d0887"
            ],
            [
             0.1111111111111111,
             "#46039f"
            ],
            [
             0.2222222222222222,
             "#7201a8"
            ],
            [
             0.3333333333333333,
             "#9c179e"
            ],
            [
             0.4444444444444444,
             "#bd3786"
            ],
            [
             0.5555555555555556,
             "#d8576b"
            ],
            [
             0.6666666666666666,
             "#ed7953"
            ],
            [
             0.7777777777777778,
             "#fb9f3a"
            ],
            [
             0.8888888888888888,
             "#fdca26"
            ],
            [
             1,
             "#f0f921"
            ]
           ]
          },
          "colorway": [
           "#636efa",
           "#EF553B",
           "#00cc96",
           "#ab63fa",
           "#FFA15A",
           "#19d3f3",
           "#FF6692",
           "#B6E880",
           "#FF97FF",
           "#FECB52"
          ],
          "font": {
           "color": "#2a3f5f"
          },
          "geo": {
           "bgcolor": "white",
           "lakecolor": "white",
           "landcolor": "#E5ECF6",
           "showlakes": true,
           "showland": true,
           "subunitcolor": "white"
          },
          "hoverlabel": {
           "align": "left"
          },
          "hovermode": "closest",
          "mapbox": {
           "style": "light"
          },
          "paper_bgcolor": "white",
          "plot_bgcolor": "#E5ECF6",
          "polar": {
           "angularaxis": {
            "gridcolor": "white",
            "linecolor": "white",
            "ticks": ""
           },
           "bgcolor": "#E5ECF6",
           "radialaxis": {
            "gridcolor": "white",
            "linecolor": "white",
            "ticks": ""
           }
          },
          "scene": {
           "xaxis": {
            "backgroundcolor": "#E5ECF6",
            "gridcolor": "white",
            "gridwidth": 2,
            "linecolor": "white",
            "showbackground": true,
            "ticks": "",
            "zerolinecolor": "white"
           },
           "yaxis": {
            "backgroundcolor": "#E5ECF6",
            "gridcolor": "white",
            "gridwidth": 2,
            "linecolor": "white",
            "showbackground": true,
            "ticks": "",
            "zerolinecolor": "white"
           },
           "zaxis": {
            "backgroundcolor": "#E5ECF6",
            "gridcolor": "white",
            "gridwidth": 2,
            "linecolor": "white",
            "showbackground": true,
            "ticks": "",
            "zerolinecolor": "white"
           }
          },
          "shapedefaults": {
           "line": {
            "color": "#2a3f5f"
           }
          },
          "ternary": {
           "aaxis": {
            "gridcolor": "white",
            "linecolor": "white",
            "ticks": ""
           },
           "baxis": {
            "gridcolor": "white",
            "linecolor": "white",
            "ticks": ""
           },
           "bgcolor": "#E5ECF6",
           "caxis": {
            "gridcolor": "white",
            "linecolor": "white",
            "ticks": ""
           }
          },
          "title": {
           "x": 0.05
          },
          "xaxis": {
           "automargin": true,
           "gridcolor": "white",
           "linecolor": "white",
           "ticks": "",
           "title": {
            "standoff": 15
           },
           "zerolinecolor": "white",
           "zerolinewidth": 2
          },
          "yaxis": {
           "automargin": true,
           "gridcolor": "white",
           "linecolor": "white",
           "ticks": "",
           "title": {
            "standoff": 15
           },
           "zerolinecolor": "white",
           "zerolinewidth": 2
          }
         }
        },
        "title": {
         "text": "Top Rated Multi-Player Games"
        },
        "xaxis": {
         "anchor": "y",
         "domain": [
          0,
          1
         ],
         "title": {
          "text": "Game Title"
         }
        },
        "yaxis": {
         "anchor": "x",
         "domain": [
          0,
          1
         ],
         "range": [
          8,
          10
         ],
         "title": {
          "text": "Rating out of 10"
         }
        }
       }
      },
      "text/html": [
       "<div>                            <div id=\"82698808-d80c-4007-b967-3f3c96a4d667\" class=\"plotly-graph-div\" style=\"height:525px; width:100%;\"></div>            <script type=\"text/javascript\">                require([\"plotly\"], function(Plotly) {                    window.PLOTLYENV=window.PLOTLYENV || {};                                    if (document.getElementById(\"82698808-d80c-4007-b967-3f3c96a4d667\")) {                    Plotly.newPlot(                        \"82698808-d80c-4007-b967-3f3c96a4d667\",                        [{\"alignmentgroup\":\"True\",\"hovertemplate\":\"genre=Action<br>Game Title=%{x}<br>Rating out of 10=%{y}<extra></extra>\",\"legendgroup\":\"Action\",\"marker\":{\"color\":\"#636efa\",\"pattern\":{\"shape\":\"\"}},\"name\":\"Action\",\"offsetgroup\":\"Action\",\"orientation\":\"v\",\"showlegend\":true,\"textposition\":\"auto\",\"x\":[\"Super Smash Bros. Ultimate\"],\"xaxis\":\"x\",\"y\":[9.2],\"yaxis\":\"y\",\"type\":\"bar\"},{\"alignmentgroup\":\"True\",\"hovertemplate\":\"genre=Platformer<br>Game Title=%{x}<br>Rating out of 10=%{y}<extra></extra>\",\"legendgroup\":\"Platformer\",\"marker\":{\"color\":\"#EF553B\",\"pattern\":{\"shape\":\"\"}},\"name\":\"Platformer\",\"offsetgroup\":\"Platformer\",\"orientation\":\"v\",\"showlegend\":true,\"textposition\":\"auto\",\"x\":[\"Super Mario 3D World + Bowsers Fury\",\"Super Mario Maker 2\",\"Rayman Legends: Definitive Edition\"],\"xaxis\":\"x\",\"y\":[9.1,8.5,8.4],\"yaxis\":\"y\",\"type\":\"bar\"},{\"alignmentgroup\":\"True\",\"hovertemplate\":\"genre=RPG<br>Game Title=%{x}<br>Rating out of 10=%{y}<extra></extra>\",\"legendgroup\":\"RPG\",\"marker\":{\"color\":\"#00cc96\",\"pattern\":{\"shape\":\"\"}},\"name\":\"RPG\",\"offsetgroup\":\"RPG\",\"orientation\":\"v\",\"showlegend\":true,\"textposition\":\"auto\",\"x\":[\"Monster Hunter Rise\",\"Diablo III: Eternal Collection\"],\"xaxis\":\"x\",\"y\":[9.0,8.3],\"yaxis\":\"y\",\"type\":\"bar\"},{\"alignmentgroup\":\"True\",\"hovertemplate\":\"genre=Sports<br>Game Title=%{x}<br>Rating out of 10=%{y}<extra></extra>\",\"legendgroup\":\"Sports\",\"marker\":{\"color\":\"#ab63fa\",\"pattern\":{\"shape\":\"\"}},\"name\":\"Sports\",\"offsetgroup\":\"Sports\",\"orientation\":\"v\",\"showlegend\":true,\"textposition\":\"auto\",\"x\":[\"Mario Kart 8 Deluxe\"],\"xaxis\":\"x\",\"y\":[9.0],\"yaxis\":\"y\",\"type\":\"bar\"},{\"alignmentgroup\":\"True\",\"hovertemplate\":\"genre=Adventure<br>Game Title=%{x}<br>Rating out of 10=%{y}<extra></extra>\",\"legendgroup\":\"Adventure\",\"marker\":{\"color\":\"#FFA15A\",\"pattern\":{\"shape\":\"\"}},\"name\":\"Adventure\",\"offsetgroup\":\"Adventure\",\"orientation\":\"v\",\"showlegend\":true,\"textposition\":\"auto\",\"x\":[\"Luigis Mansion 3\"],\"xaxis\":\"x\",\"y\":[8.8],\"yaxis\":\"y\",\"type\":\"bar\"},{\"alignmentgroup\":\"True\",\"hovertemplate\":\"genre=Shooter<br>Game Title=%{x}<br>Rating out of 10=%{y}<extra></extra>\",\"legendgroup\":\"Shooter\",\"marker\":{\"color\":\"#19d3f3\",\"pattern\":{\"shape\":\"\"}},\"name\":\"Shooter\",\"offsetgroup\":\"Shooter\",\"orientation\":\"v\",\"showlegend\":true,\"textposition\":\"auto\",\"x\":[\"Splatoon 2\"],\"xaxis\":\"x\",\"y\":[8.7],\"yaxis\":\"y\",\"type\":\"bar\"},{\"alignmentgroup\":\"True\",\"hovertemplate\":\"genre=Party<br>Game Title=%{x}<br>Rating out of 10=%{y}<extra></extra>\",\"legendgroup\":\"Party\",\"marker\":{\"color\":\"#FF6692\",\"pattern\":{\"shape\":\"\"}},\"name\":\"Party\",\"offsetgroup\":\"Party\",\"orientation\":\"v\",\"showlegend\":true,\"textposition\":\"auto\",\"x\":[\"Mario Party Superstars\"],\"xaxis\":\"x\",\"y\":[8.5],\"yaxis\":\"y\",\"type\":\"bar\"}],                        {\"template\":{\"data\":{\"histogram2dcontour\":[{\"type\":\"histogram2dcontour\",\"colorbar\":{\"outlinewidth\":0,\"ticks\":\"\"},\"colorscale\":[[0.0,\"#0d0887\"],[0.1111111111111111,\"#46039f\"],[0.2222222222222222,\"#7201a8\"],[0.3333333333333333,\"#9c179e\"],[0.4444444444444444,\"#bd3786\"],[0.5555555555555556,\"#d8576b\"],[0.6666666666666666,\"#ed7953\"],[0.7777777777777778,\"#fb9f3a\"],[0.8888888888888888,\"#fdca26\"],[1.0,\"#f0f921\"]]}],\"choropleth\":[{\"type\":\"choropleth\",\"colorbar\":{\"outlinewidth\":0,\"ticks\":\"\"}}],\"histogram2d\":[{\"type\":\"histogram2d\",\"colorbar\":{\"outlinewidth\":0,\"ticks\":\"\"},\"colorscale\":[[0.0,\"#0d0887\"],[0.1111111111111111,\"#46039f\"],[0.2222222222222222,\"#7201a8\"],[0.3333333333333333,\"#9c179e\"],[0.4444444444444444,\"#bd3786\"],[0.5555555555555556,\"#d8576b\"],[0.6666666666666666,\"#ed7953\"],[0.7777777777777778,\"#fb9f3a\"],[0.8888888888888888,\"#fdca26\"],[1.0,\"#f0f921\"]]}],\"heatmap\":[{\"type\":\"heatmap\",\"colorbar\":{\"outlinewidth\":0,\"ticks\":\"\"},\"colorscale\":[[0.0,\"#0d0887\"],[0.1111111111111111,\"#46039f\"],[0.2222222222222222,\"#7201a8\"],[0.3333333333333333,\"#9c179e\"],[0.4444444444444444,\"#bd3786\"],[0.5555555555555556,\"#d8576b\"],[0.6666666666666666,\"#ed7953\"],[0.7777777777777778,\"#fb9f3a\"],[0.8888888888888888,\"#fdca26\"],[1.0,\"#f0f921\"]]}],\"heatmapgl\":[{\"type\":\"heatmapgl\",\"colorbar\":{\"outlinewidth\":0,\"ticks\":\"\"},\"colorscale\":[[0.0,\"#0d0887\"],[0.1111111111111111,\"#46039f\"],[0.2222222222222222,\"#7201a8\"],[0.3333333333333333,\"#9c179e\"],[0.4444444444444444,\"#bd3786\"],[0.5555555555555556,\"#d8576b\"],[0.6666666666666666,\"#ed7953\"],[0.7777777777777778,\"#fb9f3a\"],[0.8888888888888888,\"#fdca26\"],[1.0,\"#f0f921\"]]}],\"contourcarpet\":[{\"type\":\"contourcarpet\",\"colorbar\":{\"outlinewidth\":0,\"ticks\":\"\"}}],\"contour\":[{\"type\":\"contour\",\"colorbar\":{\"outlinewidth\":0,\"ticks\":\"\"},\"colorscale\":[[0.0,\"#0d0887\"],[0.1111111111111111,\"#46039f\"],[0.2222222222222222,\"#7201a8\"],[0.3333333333333333,\"#9c179e\"],[0.4444444444444444,\"#bd3786\"],[0.5555555555555556,\"#d8576b\"],[0.6666666666666666,\"#ed7953\"],[0.7777777777777778,\"#fb9f3a\"],[0.8888888888888888,\"#fdca26\"],[1.0,\"#f0f921\"]]}],\"surface\":[{\"type\":\"surface\",\"colorbar\":{\"outlinewidth\":0,\"ticks\":\"\"},\"colorscale\":[[0.0,\"#0d0887\"],[0.1111111111111111,\"#46039f\"],[0.2222222222222222,\"#7201a8\"],[0.3333333333333333,\"#9c179e\"],[0.4444444444444444,\"#bd3786\"],[0.5555555555555556,\"#d8576b\"],[0.6666666666666666,\"#ed7953\"],[0.7777777777777778,\"#fb9f3a\"],[0.8888888888888888,\"#fdca26\"],[1.0,\"#f0f921\"]]}],\"mesh3d\":[{\"type\":\"mesh3d\",\"colorbar\":{\"outlinewidth\":0,\"ticks\":\"\"}}],\"scatter\":[{\"fillpattern\":{\"fillmode\":\"overlay\",\"size\":10,\"solidity\":0.2},\"type\":\"scatter\"}],\"parcoords\":[{\"type\":\"parcoords\",\"line\":{\"colorbar\":{\"outlinewidth\":0,\"ticks\":\"\"}}}],\"scatterpolargl\":[{\"type\":\"scatterpolargl\",\"marker\":{\"colorbar\":{\"outlinewidth\":0,\"ticks\":\"\"}}}],\"bar\":[{\"error_x\":{\"color\":\"#2a3f5f\"},\"error_y\":{\"color\":\"#2a3f5f\"},\"marker\":{\"line\":{\"color\":\"#E5ECF6\",\"width\":0.5},\"pattern\":{\"fillmode\":\"overlay\",\"size\":10,\"solidity\":0.2}},\"type\":\"bar\"}],\"scattergeo\":[{\"type\":\"scattergeo\",\"marker\":{\"colorbar\":{\"outlinewidth\":0,\"ticks\":\"\"}}}],\"scatterpolar\":[{\"type\":\"scatterpolar\",\"marker\":{\"colorbar\":{\"outlinewidth\":0,\"ticks\":\"\"}}}],\"histogram\":[{\"marker\":{\"pattern\":{\"fillmode\":\"overlay\",\"size\":10,\"solidity\":0.2}},\"type\":\"histogram\"}],\"scattergl\":[{\"type\":\"scattergl\",\"marker\":{\"colorbar\":{\"outlinewidth\":0,\"ticks\":\"\"}}}],\"scatter3d\":[{\"type\":\"scatter3d\",\"line\":{\"colorbar\":{\"outlinewidth\":0,\"ticks\":\"\"}},\"marker\":{\"colorbar\":{\"outlinewidth\":0,\"ticks\":\"\"}}}],\"scattermapbox\":[{\"type\":\"scattermapbox\",\"marker\":{\"colorbar\":{\"outlinewidth\":0,\"ticks\":\"\"}}}],\"scatterternary\":[{\"type\":\"scatterternary\",\"marker\":{\"colorbar\":{\"outlinewidth\":0,\"ticks\":\"\"}}}],\"scattercarpet\":[{\"type\":\"scattercarpet\",\"marker\":{\"colorbar\":{\"outlinewidth\":0,\"ticks\":\"\"}}}],\"carpet\":[{\"aaxis\":{\"endlinecolor\":\"#2a3f5f\",\"gridcolor\":\"white\",\"linecolor\":\"white\",\"minorgridcolor\":\"white\",\"startlinecolor\":\"#2a3f5f\"},\"baxis\":{\"endlinecolor\":\"#2a3f5f\",\"gridcolor\":\"white\",\"linecolor\":\"white\",\"minorgridcolor\":\"white\",\"startlinecolor\":\"#2a3f5f\"},\"type\":\"carpet\"}],\"table\":[{\"cells\":{\"fill\":{\"color\":\"#EBF0F8\"},\"line\":{\"color\":\"white\"}},\"header\":{\"fill\":{\"color\":\"#C8D4E3\"},\"line\":{\"color\":\"white\"}},\"type\":\"table\"}],\"barpolar\":[{\"marker\":{\"line\":{\"color\":\"#E5ECF6\",\"width\":0.5},\"pattern\":{\"fillmode\":\"overlay\",\"size\":10,\"solidity\":0.2}},\"type\":\"barpolar\"}],\"pie\":[{\"automargin\":true,\"type\":\"pie\"}]},\"layout\":{\"autotypenumbers\":\"strict\",\"colorway\":[\"#636efa\",\"#EF553B\",\"#00cc96\",\"#ab63fa\",\"#FFA15A\",\"#19d3f3\",\"#FF6692\",\"#B6E880\",\"#FF97FF\",\"#FECB52\"],\"font\":{\"color\":\"#2a3f5f\"},\"hovermode\":\"closest\",\"hoverlabel\":{\"align\":\"left\"},\"paper_bgcolor\":\"white\",\"plot_bgcolor\":\"#E5ECF6\",\"polar\":{\"bgcolor\":\"#E5ECF6\",\"angularaxis\":{\"gridcolor\":\"white\",\"linecolor\":\"white\",\"ticks\":\"\"},\"radialaxis\":{\"gridcolor\":\"white\",\"linecolor\":\"white\",\"ticks\":\"\"}},\"ternary\":{\"bgcolor\":\"#E5ECF6\",\"aaxis\":{\"gridcolor\":\"white\",\"linecolor\":\"white\",\"ticks\":\"\"},\"baxis\":{\"gridcolor\":\"white\",\"linecolor\":\"white\",\"ticks\":\"\"},\"caxis\":{\"gridcolor\":\"white\",\"linecolor\":\"white\",\"ticks\":\"\"}},\"coloraxis\":{\"colorbar\":{\"outlinewidth\":0,\"ticks\":\"\"}},\"colorscale\":{\"sequential\":[[0.0,\"#0d0887\"],[0.1111111111111111,\"#46039f\"],[0.2222222222222222,\"#7201a8\"],[0.3333333333333333,\"#9c179e\"],[0.4444444444444444,\"#bd3786\"],[0.5555555555555556,\"#d8576b\"],[0.6666666666666666,\"#ed7953\"],[0.7777777777777778,\"#fb9f3a\"],[0.8888888888888888,\"#fdca26\"],[1.0,\"#f0f921\"]],\"sequentialminus\":[[0.0,\"#0d0887\"],[0.1111111111111111,\"#46039f\"],[0.2222222222222222,\"#7201a8\"],[0.3333333333333333,\"#9c179e\"],[0.4444444444444444,\"#bd3786\"],[0.5555555555555556,\"#d8576b\"],[0.6666666666666666,\"#ed7953\"],[0.7777777777777778,\"#fb9f3a\"],[0.8888888888888888,\"#fdca26\"],[1.0,\"#f0f921\"]],\"diverging\":[[0,\"#8e0152\"],[0.1,\"#c51b7d\"],[0.2,\"#de77ae\"],[0.3,\"#f1b6da\"],[0.4,\"#fde0ef\"],[0.5,\"#f7f7f7\"],[0.6,\"#e6f5d0\"],[0.7,\"#b8e186\"],[0.8,\"#7fbc41\"],[0.9,\"#4d9221\"],[1,\"#276419\"]]},\"xaxis\":{\"gridcolor\":\"white\",\"linecolor\":\"white\",\"ticks\":\"\",\"title\":{\"standoff\":15},\"zerolinecolor\":\"white\",\"automargin\":true,\"zerolinewidth\":2},\"yaxis\":{\"gridcolor\":\"white\",\"linecolor\":\"white\",\"ticks\":\"\",\"title\":{\"standoff\":15},\"zerolinecolor\":\"white\",\"automargin\":true,\"zerolinewidth\":2},\"scene\":{\"xaxis\":{\"backgroundcolor\":\"#E5ECF6\",\"gridcolor\":\"white\",\"linecolor\":\"white\",\"showbackground\":true,\"ticks\":\"\",\"zerolinecolor\":\"white\",\"gridwidth\":2},\"yaxis\":{\"backgroundcolor\":\"#E5ECF6\",\"gridcolor\":\"white\",\"linecolor\":\"white\",\"showbackground\":true,\"ticks\":\"\",\"zerolinecolor\":\"white\",\"gridwidth\":2},\"zaxis\":{\"backgroundcolor\":\"#E5ECF6\",\"gridcolor\":\"white\",\"linecolor\":\"white\",\"showbackground\":true,\"ticks\":\"\",\"zerolinecolor\":\"white\",\"gridwidth\":2}},\"shapedefaults\":{\"line\":{\"color\":\"#2a3f5f\"}},\"annotationdefaults\":{\"arrowcolor\":\"#2a3f5f\",\"arrowhead\":0,\"arrowwidth\":1},\"geo\":{\"bgcolor\":\"white\",\"landcolor\":\"#E5ECF6\",\"subunitcolor\":\"white\",\"showland\":true,\"showlakes\":true,\"lakecolor\":\"white\"},\"title\":{\"x\":0.05},\"mapbox\":{\"style\":\"light\"}}},\"xaxis\":{\"anchor\":\"y\",\"domain\":[0.0,1.0],\"title\":{\"text\":\"Game Title\"}},\"yaxis\":{\"anchor\":\"x\",\"domain\":[0.0,1.0],\"title\":{\"text\":\"Rating out of 10\"},\"range\":[8,10]},\"legend\":{\"title\":{\"text\":\"genre\"},\"tracegroupgap\":0},\"title\":{\"text\":\"Top Rated Multi-Player Games\"},\"barmode\":\"relative\"},                        {\"responsive\": true}                    ).then(function(){\n",
       "                            \n",
       "var gd = document.getElementById('82698808-d80c-4007-b967-3f3c96a4d667');\n",
       "var x = new MutationObserver(function (mutations, observer) {{\n",
       "        var display = window.getComputedStyle(gd).display;\n",
       "        if (!display || display === 'none') {{\n",
       "            console.log([gd, 'removed!']);\n",
       "            Plotly.purge(gd);\n",
       "            observer.disconnect();\n",
       "        }}\n",
       "}});\n",
       "\n",
       "// Listen for the removal of the full notebook cells\n",
       "var notebookContainer = gd.closest('#notebook-container');\n",
       "if (notebookContainer) {{\n",
       "    x.observe(notebookContainer, {childList: true});\n",
       "}}\n",
       "\n",
       "// Listen for the clearing of the current output cell\n",
       "var outputEl = gd.closest('.output');\n",
       "if (outputEl) {{\n",
       "    x.observe(outputEl, {childList: true});\n",
       "}}\n",
       "\n",
       "                        })                };                });            </script>        </div>"
      ]
     },
     "metadata": {},
     "output_type": "display_data"
    }
   ],
   "source": [
    "fig = px.bar(df_top10_multi_player, x='title', y='rating', color='genre_reduced',\n",
    "             labels={'title': 'Game Title', 'rating': 'Rating out of 10', 'genre_reduced':'genre'},\n",
    "             title='Top Rated Multi-Player Games')\n",
    "fig.update_layout(yaxis_range = [8,10])\n",
    "\n",
    "fig.show()"
   ]
  },
  {
   "cell_type": "code",
   "execution_count": null,
   "id": "1d404274",
   "metadata": {},
   "outputs": [],
   "source": []
  }
 ],
 "metadata": {
  "kernelspec": {
   "display_name": "Python 3 (ipykernel)",
   "language": "python",
   "name": "python3"
  },
  "language_info": {
   "codemirror_mode": {
    "name": "ipython",
    "version": 3
   },
   "file_extension": ".py",
   "mimetype": "text/x-python",
   "name": "python",
   "nbconvert_exporter": "python",
   "pygments_lexer": "ipython3",
   "version": "3.11.5"
  }
 },
 "nbformat": 4,
 "nbformat_minor": 5
}
